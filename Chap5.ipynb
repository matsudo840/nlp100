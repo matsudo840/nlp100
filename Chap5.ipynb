{
  "nbformat": 4,
  "nbformat_minor": 0,
  "metadata": {
    "colab": {
      "name": "Chap5.ipynb",
      "version": "0.3.2",
      "provenance": [],
      "include_colab_link": true
    },
    "kernelspec": {
      "name": "python3",
      "display_name": "Python 3"
    }
  },
  "cells": [
    {
      "cell_type": "markdown",
      "metadata": {
        "id": "view-in-github",
        "colab_type": "text"
      },
      "source": [
        "<a href=\"https://colab.research.google.com/github/matsudo840/nlp100/blob/master/Chap5.ipynb\" target=\"_parent\"><img src=\"https://colab.research.google.com/assets/colab-badge.svg\" alt=\"Open In Colab\"/></a>"
      ]
    },
    {
      "cell_type": "markdown",
      "metadata": {
        "id": "JCuzk0DgQQBk",
        "colab_type": "text"
      },
      "source": [
        "# 言語処理100本ノック 2015"
      ]
    },
    {
      "cell_type": "markdown",
      "metadata": {
        "id": "9361EUp7Qhd2",
        "colab_type": "text"
      },
      "source": [
        "## 第5章: 係り受け解析\n",
        "\n",
        "夏目漱石の小説『吾輩は猫である』の文章（neko.txt）をCaboChaを使って係り受け解析し，その結果をneko.txt.cabochaというファイルに保存せよ．このファイルを用いて，以下の問に対応するプログラムを実装せよ．"
      ]
    },
    {
      "cell_type": "code",
      "metadata": {
        "id": "nqdN4pGeuLCr",
        "colab_type": "code",
        "outputId": "b4a737ab-2cc0-4039-e0ce-885cec956806",
        "colab": {
          "base_uri": "https://localhost:8080/",
          "height": 70
        }
      },
      "source": [
        "!apt install -y curl file git libmecab-dev make mecab mecab-ipadic-utf8 swig xz-utils > /dev/null\n",
        "!pip install mecab-python3 > /dev/null"
      ],
      "execution_count": 8,
      "outputs": [
        {
          "output_type": "stream",
          "text": [
            "\n",
            "WARNING: apt does not have a stable CLI interface. Use with caution in scripts.\n",
            "\n"
          ],
          "name": "stdout"
        }
      ]
    },
    {
      "cell_type": "code",
      "metadata": {
        "id": "9O8WoLeX16Ms",
        "colab_type": "code",
        "outputId": "25d01941-76bb-4381-c7ed-9eef5eb5c4cf",
        "colab": {
          "base_uri": "https://localhost:8080/",
          "height": 477
        }
      },
      "source": [
        "import os\n",
        "\n",
        "filename_crfpp = 'crfpp.tar.gz'\n",
        "!wget \"https://drive.google.com/uc?export=download&id=0B4y35FiV1wh7QVR6VXJ5dWExSTQ\" \\\n",
        "    -O $filename_crfpp > /dev/null\n",
        "!tar zxvf $filename_crfpp > /dev/null\n",
        "%cd CRF++-0.58\n",
        "!./configure > /dev/null\n",
        "!make > /dev/null\n",
        "!make install > /dev/null\n",
        "%cd ..\n",
        "\n",
        "os.environ['LD_LIBRARY_PATH'] += ':/usr/local/lib' "
      ],
      "execution_count": 9,
      "outputs": [
        {
          "output_type": "stream",
          "text": [
            "--2019-05-21 01:21:52--  https://drive.google.com/uc?export=download&id=0B4y35FiV1wh7QVR6VXJ5dWExSTQ\n",
            "Resolving drive.google.com (drive.google.com)... 74.125.141.138, 74.125.141.139, 74.125.141.100, ...\n",
            "Connecting to drive.google.com (drive.google.com)|74.125.141.138|:443... connected.\n",
            "HTTP request sent, awaiting response... 302 Moved Temporarily\n",
            "Location: https://doc-08-74-docs.googleusercontent.com/docs/securesc/ha0ro937gcuc7l7deffksulhg5h7mbp1/ulm3lhlh0tmciijnuhs071f09nm0roeb/1558396800000/13553212398903315502/*/0B4y35FiV1wh7QVR6VXJ5dWExSTQ?e=download [following]\n",
            "Warning: wildcards not supported in HTTP.\n",
            "--2019-05-21 01:21:54--  https://doc-08-74-docs.googleusercontent.com/docs/securesc/ha0ro937gcuc7l7deffksulhg5h7mbp1/ulm3lhlh0tmciijnuhs071f09nm0roeb/1558396800000/13553212398903315502/*/0B4y35FiV1wh7QVR6VXJ5dWExSTQ?e=download\n",
            "Resolving doc-08-74-docs.googleusercontent.com (doc-08-74-docs.googleusercontent.com)... 74.125.141.132, 2607:f8b0:400c:c06::84\n",
            "Connecting to doc-08-74-docs.googleusercontent.com (doc-08-74-docs.googleusercontent.com)|74.125.141.132|:443... connected.\n",
            "HTTP request sent, awaiting response... 200 OK\n",
            "Length: 790570 (772K) [application/x-gzip]\n",
            "Saving to: ‘crfpp.tar.gz’\n",
            "\n",
            "crfpp.tar.gz        100%[===================>] 772.04K  --.-KB/s    in 0.008s  \n",
            "\n",
            "2019-05-21 01:21:54 (88.7 MB/s) - ‘crfpp.tar.gz’ saved [790570/790570]\n",
            "\n",
            "/CRF++-0.58\n",
            "In file included from \u001b[01m\u001b[Ktagger.h:14:0\u001b[m\u001b[K,\n",
            "                 from \u001b[01m\u001b[Kfeature.cpp:12\u001b[m\u001b[K:\n",
            "\u001b[01m\u001b[Kparam.h:34:13:\u001b[m\u001b[K \u001b[01;35m\u001b[Kwarning: \u001b[m\u001b[K'\u001b[01m\u001b[KTarget CRFPP::{anonymous}::lexical_cast(Source) [with Target = std::__cxx11::basic_string<char>; Source = std::__cxx11::basic_string<char>]\u001b[m\u001b[K' defined but not used [\u001b[01;35m\u001b[K-Wunused-function\u001b[m\u001b[K]\n",
            " std::string \u001b[01;35m\u001b[Klexical_cast<std::string, std::string>\u001b[m\u001b[K(std::string arg) {\n",
            "             \u001b[01;35m\u001b[K^~~~~~~~~~~~~~~~~~~~~~~~~~~~~~~~~~~~~~\u001b[m\u001b[K\n",
            "ar: `u' modifier ignored since `D' is the default (see `U')\n",
            "/\n"
          ],
          "name": "stdout"
        }
      ]
    },
    {
      "cell_type": "code",
      "metadata": {
        "id": "Q8iFM9lruMWh",
        "colab_type": "code",
        "outputId": "d758998e-d229-4f58-860a-e6210755659e",
        "colab": {
          "base_uri": "https://localhost:8080/",
          "height": 316
        }
      },
      "source": [
        "url_cabocha = 'https://drive.google.com/uc?export=download&id=0B4y35FiV1wh7SDd1Q1dUQkZQaUU'\n",
        "filename_cabocha = 'cabocha.tar.bz2'\n",
        "!wget \"$url_cabocha\" -O $filename_cabocha > /dev/null\n",
        "!bzip2 -dc $filename_cabocha | tar xvf - > /dev/null\n",
        "%cd cabocha-0.69\n",
        "!./configure --with-mecab-config=`which mecab-config` --with-charset=UTF8 > /dev/null\n",
        "!make > /dev/null\n",
        "!make check > /dev/null\n",
        "!make install > /dev/null\n",
        "%cd ..\n",
        "!cabocha --version"
      ],
      "execution_count": 10,
      "outputs": [
        {
          "output_type": "stream",
          "text": [
            "--2019-05-21 01:22:38--  https://drive.google.com/uc?export=download&id=0B4y35FiV1wh7SDd1Q1dUQkZQaUU\n",
            "Resolving drive.google.com (drive.google.com)... 74.125.141.101, 74.125.141.139, 74.125.141.138, ...\n",
            "Connecting to drive.google.com (drive.google.com)|74.125.141.101|:443... connected.\n",
            "HTTP request sent, awaiting response... 200 OK\n",
            "Length: unspecified [text/html]\n",
            "Saving to: ‘cabocha.tar.bz2’\n",
            "\n",
            "cabocha.tar.bz2         [ <=>                ]   3.17K  --.-KB/s    in 0s      \n",
            "\n",
            "2019-05-21 01:23:08 (29.6 MB/s) - ‘cabocha.tar.bz2’ saved [3241]\n",
            "\n",
            "bzip2: cabocha.tar.bz2 is not a bzip2 file.\n",
            "tar: This does not look like a tar archive\n",
            "tar: Exiting with failure status due to previous errors\n",
            "/cabocha-0.69\n",
            "/\n",
            "cabocha of 0.69\n"
          ],
          "name": "stdout"
        }
      ]
    },
    {
      "cell_type": "code",
      "metadata": {
        "id": "QGPc3ZYeu4OI",
        "colab_type": "code",
        "outputId": "c8d480ee-7e95-4f8b-ffb5-144d35c0f705",
        "colab": {
          "base_uri": "https://localhost:8080/",
          "height": 52
        }
      },
      "source": [
        "%cd cabocha-0.69/python\n",
        "!python setup.py build_ext > /dev/null\n",
        "!python setup.py install > /dev/null\n",
        "!ldconfig > /dev/null\n",
        "%cd ../.."
      ],
      "execution_count": 11,
      "outputs": [
        {
          "output_type": "stream",
          "text": [
            "/cabocha-0.69/python\n",
            "/\n"
          ],
          "name": "stdout"
        }
      ]
    },
    {
      "cell_type": "code",
      "metadata": {
        "id": "G3svaiGB-SW2",
        "colab_type": "code",
        "colab": {
          "base_uri": "https://localhost:8080/",
          "height": 510
        },
        "outputId": "c0153f40-6bb3-4379-92ad-4521cd4c3f57"
      },
      "source": [
        "import CaboCha\n",
        "\n",
        "c = CaboCha.Parser()\n",
        "sentence = \"一郎は二郎が描いた絵を三郎に贈った。\"\n",
        "tree =  c.parse(sentence)\n",
        "print(tree.toString(CaboCha.FORMAT_XML))"
      ],
      "execution_count": 12,
      "outputs": [
        {
          "output_type": "stream",
          "text": [
            "<sentence>\n",
            " <chunk id=\"0\" link=\"5\" rel=\"D\" score=\"-1.663431\" head=\"0\" func=\"1\">\n",
            "  <tok id=\"0\" feature=\"名詞,固有名詞,人名,名,*,*,一郎,イチロウ,イチロー\">一郎</tok>\n",
            "  <tok id=\"1\" feature=\"助詞,係助詞,*,*,*,*,は,ハ,ワ\">は</tok>\n",
            " </chunk>\n",
            " <chunk id=\"1\" link=\"2\" rel=\"D\" score=\"0.916559\" head=\"2\" func=\"3\">\n",
            "  <tok id=\"2\" feature=\"名詞,固有名詞,人名,名,*,*,二郎,ジロウ,ジロー\">二郎</tok>\n",
            "  <tok id=\"3\" feature=\"助詞,格助詞,一般,*,*,*,が,ガ,ガ\">が</tok>\n",
            " </chunk>\n",
            " <chunk id=\"2\" link=\"3\" rel=\"D\" score=\"1.678682\" head=\"4\" func=\"5\">\n",
            "  <tok id=\"4\" feature=\"動詞,自立,*,*,五段・カ行イ音便,連用タ接続,描く,エガイ,エガイ\">描い</tok>\n",
            "  <tok id=\"5\" feature=\"助動詞,*,*,*,特殊・タ,基本形,た,タ,タ\">た</tok>\n",
            " </chunk>\n",
            " <chunk id=\"3\" link=\"5\" rel=\"D\" score=\"-1.663431\" head=\"6\" func=\"7\">\n",
            "  <tok id=\"6\" feature=\"名詞,一般,*,*,*,*,絵,エ,エ\">絵</tok>\n",
            "  <tok id=\"7\" feature=\"助詞,格助詞,一般,*,*,*,を,ヲ,ヲ\">を</tok>\n",
            " </chunk>\n",
            " <chunk id=\"4\" link=\"5\" rel=\"D\" score=\"-1.663431\" head=\"8\" func=\"9\">\n",
            "  <tok id=\"8\" feature=\"名詞,固有名詞,地域,一般,*,*,三郎,サブロウ,サブロー\">三郎</tok>\n",
            "  <tok id=\"9\" feature=\"助詞,格助詞,一般,*,*,*,に,ニ,ニ\">に</tok>\n",
            " </chunk>\n",
            " <chunk id=\"5\" link=\"-1\" rel=\"D\" score=\"0.000000\" head=\"10\" func=\"11\">\n",
            "  <tok id=\"10\" feature=\"動詞,自立,*,*,五段・ラ行,連用タ接続,贈る,オクッ,オクッ\">贈っ</tok>\n",
            "  <tok id=\"11\" feature=\"助動詞,*,*,*,特殊・タ,基本形,た,タ,タ\">た</tok>\n",
            "  <tok id=\"12\" feature=\"記号,句点,*,*,*,*,。,。,。\">。</tok>\n",
            " </chunk>\n",
            "</sentence>\n",
            "\n"
          ],
          "name": "stdout"
        }
      ]
    },
    {
      "cell_type": "markdown",
      "metadata": {
        "id": "2cAydsMjQ5FZ",
        "colab_type": "text"
      },
      "source": [
        "### 40. 係り受け解析結果の読み込み（形態素）\n",
        "形態素を表すクラスMorphを実装せよ．このクラスは表層形（surface），基本形（base），品詞（pos），品詞細分類1（pos1）をメンバ変数に持つこととする．さらに，CaboChaの解析結果（neko.txt.cabocha）を読み込み，各文をMorphオブジェクトのリストとして表現し，3文目の形態素列を表示せよ．"
      ]
    },
    {
      "cell_type": "markdown",
      "metadata": {
        "id": "iATPp3CEQ9se",
        "colab_type": "text"
      },
      "source": [
        "### 41. 係り受け解析結果の読み込み（文節・係り受け）\n",
        "40に加えて，文節を表すクラスChunkを実装せよ．このクラスは形態素（Morphオブジェクト）のリスト（morphs），係り先文節インデックス番号（dst），係り元文節インデックス番号のリスト（srcs）をメンバ変数に持つこととする．さらに，入力テキストのCaboChaの解析結果を読み込み，１文をChunkオブジェクトのリストとして表現し，8文目の文節の文字列と係り先を表示せよ．第5章の残りの問題では，ここで作ったプログラムを活用せよ．"
      ]
    },
    {
      "cell_type": "markdown",
      "metadata": {
        "id": "pnCG4HZIRBo7",
        "colab_type": "text"
      },
      "source": [
        "### 42. 係り元と係り先の文節の表示\n",
        "係り元の文節と係り先の文節のテキストをタブ区切り形式ですべて抽出せよ．ただし，句読点などの記号は出力しないようにせよ．"
      ]
    },
    {
      "cell_type": "markdown",
      "metadata": {
        "id": "awcCcqzkRKX5",
        "colab_type": "text"
      },
      "source": [
        "### 43. 名詞を含む文節が動詞を含む文節に係るものを抽出\n",
        "名詞を含む文節が，動詞を含む文節に係るとき，これらをタブ区切り形式で抽出せよ．ただし，句読点などの記号は出力しないようにせよ．"
      ]
    },
    {
      "cell_type": "markdown",
      "metadata": {
        "id": "3CobNIO0RKeN",
        "colab_type": "text"
      },
      "source": [
        "### 44. 係り受け木の可視化\n",
        "与えられた文の係り受け木を有向グラフとして可視化せよ．可視化には，係り受け木をDOT言語に変換し，Graphvizを用いるとよい．また，Pythonから有向グラフを直接的に可視化するには，pydotを使うとよい．"
      ]
    },
    {
      "cell_type": "markdown",
      "metadata": {
        "id": "swQjyywgRKkz",
        "colab_type": "text"
      },
      "source": [
        "### 45. 動詞の格パターンの抽出\n",
        "今回用いている文章をコーパスと見なし，日本語の述語が取りうる格を調査したい． 動詞を述語，動詞に係っている文節の助詞を格と考え，述語と格をタブ区切り形式で出力せよ． ただし，出力は以下の仕様を満たすようにせよ．\n",
        "\n",
        "- 動詞を含む文節において，最左の動詞の基本形を述語とする\n",
        "- 述語に係る助詞を格とする\n",
        "- 述語に係る助詞（文節）が複数あるときは，すべての助詞をスペース区切りで辞書順に並べる\n",
        "\n",
        "「吾輩はここで始めて人間というものを見た」という例文（neko.txt.cabochaの8文目）を考える． この文は「始める」と「見る」の２つの動詞を含み，「始める」に係る文節は「ここで」，「見る」に係る文節は「吾輩は」と「ものを」と解析された場合は，次のような出力になるはずである．\n",
        "```\n",
        "始める  で\n",
        "見る    は を\n",
        "```\n",
        "このプログラムの出力をファイルに保存し，以下の事項をUNIXコマンドを用いて確認せよ．\n",
        "\n",
        "- コーパス中で頻出する述語と格パターンの組み合わせ\n",
        "- 「する」「見る」「与える」という動詞の格パターン（コーパス中で出現頻度の高い順に並べよ）"
      ]
    },
    {
      "cell_type": "markdown",
      "metadata": {
        "id": "jQcg-ztmRKnp",
        "colab_type": "text"
      },
      "source": [
        "### 46. 動詞の格フレーム情報の抽出\n",
        "45のプログラムを改変し，述語と格パターンに続けて項（述語に係っている文節そのもの）をタブ区切り形式で出力せよ．45の仕様に加えて，以下の仕様を満たすようにせよ．\n",
        "\n",
        "- 項は述語に係っている文節の単語列とする（末尾の助詞を取り除く必要はない）\n",
        "- 述語に係る文節が複数あるときは，助詞と同一の基準・順序でスペース区切りで並べる\n",
        "\n",
        "「吾輩はここで始めて人間というものを見た」という例文（neko.txt.cabochaの8文目）を考える． この文は「始める」と「見る」の２つの動詞を含み，「始める」に係る文節は「ここで」，「見る」に係る文節は「吾輩は」と「ものを」と解析された場合は，次のような出力になるはずである．\n",
        "\n",
        "```\n",
        "始める  で      ここで\n",
        "見る    は を   吾輩は ものを\n",
        "```\n"
      ]
    },
    {
      "cell_type": "markdown",
      "metadata": {
        "id": "DS408_iWRK6t",
        "colab_type": "text"
      },
      "source": [
        "### 47.機能動詞構文のマイニング\n",
        "\n",
        "動詞のヲ格にサ変接続名詞が入っている場合のみに着目したい．46のプログラムを以下の仕様を満たすように改変せよ．\n",
        "\n",
        "- 「サ変接続名詞+を（助詞）」で構成される文節が動詞に係る場合のみを対象とする\n",
        "- 述語は「サ変接続名詞+を+動詞の基本形」とし，文節中に複数の動詞があるときは，最左の動詞を用いる\n",
        "0 述語に係る助詞（文節）が複数あるときは，すべての助詞をスペース区切りで辞書順に並べる\n",
        "- 述語に係る文節が複数ある場合は，すべての項をスペース区切りで並べる（助詞の並び順と揃えよ）\n",
        "\n",
        "例えば「別段くるにも及ばんさと、主人は手紙に返事をする。」という文から，以下の出力が得られるはずである．\n",
        "\n",
        "```\n",
        "返事をする      と に は        及ばんさと 手紙に 主人は\n",
        "このプログラムの出力をファイルに保存し，以下の事項をUNIXコマンドを用いて確認せよ．\n",
        "```\n",
        "\n",
        "- コーパス中で頻出する述語（サ変接続名詞+を+動詞）\n",
        "- コーパス中で頻出する述語と助詞パターン"
      ]
    },
    {
      "cell_type": "markdown",
      "metadata": {
        "id": "Jdvr6ih9RK9B",
        "colab_type": "text"
      },
      "source": [
        "### 48. 名詞から根へのパスの抽出\n",
        "\n",
        "文中のすべての名詞を含む文節に対し，その文節から構文木の根に至るパスを抽出せよ． ただし，構文木上のパスは以下の仕様を満たすものとする．\n",
        "\n",
        "- 各文節は（表層形の）形態素列で表現する\n",
        "- パスの開始文節から終了文節に至るまで，各文節の表現を\"->\"で連結する\n",
        "\n",
        "「吾輩はここで始めて人間というものを見た」という文（neko.txt.cabochaの8文目）から，次のような出力が得られるはずである．\n",
        "\n",
        "```\n",
        "吾輩は -> 見た\n",
        "ここで -> 始めて -> 人間という -> ものを -> 見た\n",
        "人間という -> ものを -> 見た\n",
        "ものを -> 見た\n",
        "```"
      ]
    },
    {
      "cell_type": "markdown",
      "metadata": {
        "id": "YoY7RtCmRK_c",
        "colab_type": "text"
      },
      "source": [
        "### 49. 名詞間の係り受けパスの抽出\n",
        "\n",
        "文中のすべての名詞句のペアを結ぶ最短係り受けパスを抽出せよ．ただし，名詞句ペアの文節番号がiとj（i<j）のとき，係り受けパスは以下の仕様を満たすものとする．\n",
        "\n",
        "- 問題48と同様に，パスは開始文節から終了文節に至るまでの各文節の表現（表層形の形態素列）を\"->\"で連結して表現する\n",
        "- 文節iとjに含まれる名詞句はそれぞれ，XとYに置換する\n",
        "\n",
        "また，係り受けパスの形状は，以下の2通りが考えられる．\n",
        "\n",
        "- 文節iから構文木の根に至る経路上に文節jが存在する場合: 文節iから文節jのパスを表示\n",
        "- 上記以外で，文節iと文節jから構文木の根に至る経路上で共通の文節kで交わる場合: 文節iから文節kに至る直前のパスと文節jから文節kに至る直前までのパス，文節kの内容を\"|\"で連結して表示\n",
        "\n",
        "例えば，「吾輩はここで始めて人間というものを見た。」という文（neko.txt.cabochaの8文目）から，次のような出力が得られるはずである．\n",
        "\n",
        "```\n",
        "Xは | Yで -> 始めて -> 人間という -> ものを | 見た\n",
        "Xは | Yという -> ものを | 見た\n",
        "Xは | Yを | 見た\n",
        "Xで -> 始めて -> Y\n",
        "Xで -> 始めて -> 人間という -> Y\n",
        "Xという -> Y\n",
        "```"
      ]
    },
    {
      "cell_type": "code",
      "metadata": {
        "id": "vrx62rk-RH8o",
        "colab_type": "code",
        "colab": {}
      },
      "source": [
        ""
      ],
      "execution_count": 0,
      "outputs": []
    }
  ]
}