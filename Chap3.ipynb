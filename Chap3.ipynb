{
  "nbformat": 4,
  "nbformat_minor": 0,
  "metadata": {
    "colab": {
      "name": "Chap3.ipynb",
      "version": "0.3.2",
      "provenance": [],
      "include_colab_link": true
    },
    "kernelspec": {
      "name": "python3",
      "display_name": "Python 3"
    }
  },
  "cells": [
    {
      "cell_type": "markdown",
      "metadata": {
        "id": "view-in-github",
        "colab_type": "text"
      },
      "source": [
        "<a href=\"https://colab.research.google.com/github/matsudo840/nlp100/blob/master/Chap3.ipynb\" target=\"_parent\"><img src=\"https://colab.research.google.com/assets/colab-badge.svg\" alt=\"Open In Colab\"/></a>"
      ]
    },
    {
      "metadata": {
        "id": "fkR1gZhU_Ocy",
        "colab_type": "text"
      },
      "cell_type": "markdown",
      "source": [
        "# 言語処理100本ノック 2015"
      ]
    },
    {
      "metadata": {
        "id": "rg6VkDMQ_tpy",
        "colab_type": "text"
      },
      "cell_type": "markdown",
      "source": [
        "## 第3章: 正規表現\n",
        "Wikipediaの記事を以下のフォーマットで書き出したファイルjawiki-country.json.gzがある．\n",
        "\n",
        "1行に1記事の情報がJSON形式で格納される\n",
        "各行には記事名が\"title\"キーに，記事本文が\"text\"キーの辞書オブジェクトに格納され，そのオブジェクトがJSON形式で書き出される\n",
        "ファイル全体はgzipで圧縮される\n",
        "以下の処理を行うプログラムを作成せよ．"
      ]
    },
    {
      "metadata": {
        "id": "krdjP6dQA9x5",
        "colab_type": "code",
        "outputId": "5cef6073-751f-4092-f610-26c24c30d4bc",
        "colab": {
          "base_uri": "https://localhost:8080/",
          "height": 221
        }
      },
      "cell_type": "code",
      "source": [
        "!wget -O /content/jawiki-country.json.gz http://www.cl.ecei.tohoku.ac.jp/nlp100/data/jawiki-country.json.gz\n",
        "!gunzip -c jawiki-country.json.gz > jawiki-country.json\n",
        "!ls"
      ],
      "execution_count": 1,
      "outputs": [
        {
          "output_type": "stream",
          "text": [
            "--2019-04-18 06:26:32--  http://www.cl.ecei.tohoku.ac.jp/nlp100/data/jawiki-country.json.gz\n",
            "Resolving www.cl.ecei.tohoku.ac.jp (www.cl.ecei.tohoku.ac.jp)... 130.34.192.83\n",
            "Connecting to www.cl.ecei.tohoku.ac.jp (www.cl.ecei.tohoku.ac.jp)|130.34.192.83|:80... connected.\n",
            "HTTP request sent, awaiting response... 200 OK\n",
            "Length: 3605822 (3.4M) [application/x-gzip]\n",
            "Saving to: ‘/content/jawiki-country.json.gz’\n",
            "\n",
            "/content/jawiki-cou 100%[===================>]   3.44M  2.70MB/s    in 1.3s    \n",
            "\n",
            "2019-04-18 06:26:34 (2.70 MB/s) - ‘/content/jawiki-country.json.gz’ saved [3605822/3605822]\n",
            "\n",
            "jawiki-country.json  jawiki-country.json.gz  sample_data\n"
          ],
          "name": "stdout"
        }
      ]
    },
    {
      "metadata": {
        "id": "RkbTln27_w6a",
        "colab_type": "text"
      },
      "cell_type": "markdown",
      "source": [
        "### 20. JSONデータの読み込み\n",
        "Wikipedia記事のJSONファイルを読み込み，「イギリス」に関する記事本文を表示せよ．問題21-29では，ここで抽出した記事本文に対して実行せよ．"
      ]
    },
    {
      "metadata": {
        "id": "Jkie8dQB_2hL",
        "colab_type": "code",
        "colab": {}
      },
      "cell_type": "code",
      "source": [
        "import json\n",
        "\n",
        "with open('jawiki-country.json', 'r') as f:\n",
        "  for entry in f:\n",
        "    entry_json = json.loads(entry)\n",
        "    if entry_json['title'] == 'イギリス':\n",
        "      entry_england = entry_json\n",
        "      print(entry_england['text'])\n",
        "      break"
      ],
      "execution_count": 0,
      "outputs": []
    },
    {
      "metadata": {
        "id": "8iqzymf4_2qc",
        "colab_type": "text"
      },
      "cell_type": "markdown",
      "source": [
        "### 21. カテゴリ名を含む行を抽出\n",
        "記事中でカテゴリ名を宣言している行を抽出せよ．"
      ]
    },
    {
      "metadata": {
        "id": "fn2sZP4-_5JC",
        "colab_type": "code",
        "outputId": "2d83a9c7-f941-4c41-ed82-1b9c3dce7d3a",
        "colab": {
          "base_uri": "https://localhost:8080/",
          "height": 153
        }
      },
      "cell_type": "code",
      "source": [
        "import re\n",
        "\n",
        "m = '^\\[\\[Category:.*\\]\\]$'\n",
        "for line in entry_england['text'].split('\\n'):\n",
        "  if re.search(m, line):\n",
        "    print(line)"
      ],
      "execution_count": 3,
      "outputs": [
        {
          "output_type": "stream",
          "text": [
            "[[Category:イギリス|*]]\n",
            "[[Category:英連邦王国|*]]\n",
            "[[Category:G8加盟国]]\n",
            "[[Category:欧州連合加盟国]]\n",
            "[[Category:海洋国家]]\n",
            "[[Category:君主国]]\n",
            "[[Category:島国|くれいとふりてん]]\n",
            "[[Category:1801年に設立された州・地域]]\n"
          ],
          "name": "stdout"
        }
      ]
    },
    {
      "metadata": {
        "id": "XsH1NjW7_544",
        "colab_type": "text"
      },
      "cell_type": "markdown",
      "source": [
        "### 22. カテゴリ名の抽出\n",
        "記事のカテゴリ名を（行単位ではなく名前で）抽出せよ．"
      ]
    },
    {
      "metadata": {
        "id": "D6Es8GEv_8hQ",
        "colab_type": "code",
        "outputId": "6d509f1a-fd1a-468e-cadd-4672c83a4ea8",
        "colab": {
          "base_uri": "https://localhost:8080/",
          "height": 153
        }
      },
      "cell_type": "code",
      "source": [
        "m2 = r'^\\[\\[Category:(.*?)[\\|\\]]'\n",
        "for line2 in entry_england['text'].split('\\n'):\n",
        "  m2_match = re.search(m2, line2)\n",
        "  if m2_match:\n",
        "    print(m2_match.group(1))"
      ],
      "execution_count": 4,
      "outputs": [
        {
          "output_type": "stream",
          "text": [
            "イギリス\n",
            "英連邦王国\n",
            "G8加盟国\n",
            "欧州連合加盟国\n",
            "海洋国家\n",
            "君主国\n",
            "島国\n",
            "1801年に設立された州・地域\n"
          ],
          "name": "stdout"
        }
      ]
    },
    {
      "metadata": {
        "id": "y4POtbDp_89p",
        "colab_type": "text"
      },
      "cell_type": "markdown",
      "source": [
        "### 23. セクション構造\n",
        "\n",
        "記事中に含まれるセクション名とそのレベル（例えば\"== セクション名 ==\"なら1）を表示せよ．"
      ]
    },
    {
      "metadata": {
        "id": "ylH8-qpU__Oa",
        "colab_type": "code",
        "outputId": "73658d7a-16f3-49cc-d89d-76911f9b5861",
        "colab": {
          "base_uri": "https://localhost:8080/",
          "height": 765
        }
      },
      "cell_type": "code",
      "source": [
        "m3 = r'(=+)(.*?)=='\n",
        "for line3 in entry_england['text'].split('\\n'):\n",
        "  m3_match = re.match(m3, line3)\n",
        "  if m3_match:\n",
        "    print(f'{m3_match.group(2)}: {len(m3_match.group(1))-1}')  "
      ],
      "execution_count": 5,
      "outputs": [
        {
          "output_type": "stream",
          "text": [
            "国名: 1\n",
            "歴史: 1\n",
            "地理: 1\n",
            "気候: 2\n",
            "政治: 1\n",
            "外交と軍事: 1\n",
            "地方行政区分: 1\n",
            "主要都市: 2\n",
            "科学技術: 1\n",
            "経済: 1\n",
            "鉱業: 2\n",
            "農業: 2\n",
            "貿易: 2\n",
            "通貨: 2\n",
            "企業: 2\n",
            "交通: 1\n",
            "道路: 2\n",
            "鉄道: 2\n",
            "海運: 2\n",
            "航空: 2\n",
            "通信: 1\n",
            "国民: 1\n",
            "言語: 2\n",
            "宗教: 2\n",
            " 婚姻 : 2\n",
            "教育: 2\n",
            "文化: 1\n",
            "食文化: 2\n",
            "文学: 2\n",
            " 哲学 : 2\n",
            "音楽: 2\n",
            "イギリスのポピュラー音楽: 3\n",
            "映画: 2\n",
            "コメディ: 2\n",
            "国花: 2\n",
            "世界遺産: 2\n",
            "祝祭日: 2\n",
            "スポーツ: 1\n",
            "サッカー: 2\n",
            "競馬: 2\n",
            "モータースポーツ: 2\n",
            "脚注: 1\n",
            "関連項目: 1\n",
            "外部リンク: 1\n"
          ],
          "name": "stdout"
        }
      ]
    },
    {
      "metadata": {
        "id": "FqOHYvjSAAtg",
        "colab_type": "text"
      },
      "cell_type": "markdown",
      "source": [
        "### 24. ファイル参照の抽出\n",
        "記事から参照されているメディアファイルをすべて抜き出せ．"
      ]
    },
    {
      "metadata": {
        "id": "-vBKfd85ACmh",
        "colab_type": "code",
        "outputId": "7475ed8a-7da1-471b-bcf8-2ce5cb13aad0",
        "colab": {
          "base_uri": "https://localhost:8080/",
          "height": 340
        }
      },
      "cell_type": "code",
      "source": [
        "list = re.findall(r'(?:file|ファイル):(.+?)\\|', entry_england['text'])\n",
        "\n",
        "list"
      ],
      "execution_count": 6,
      "outputs": [
        {
          "output_type": "execute_result",
          "data": {
            "text/plain": [
              "['Royal Coat of Arms of the United Kingdom.svg',\n",
              " 'CHANDOS3.jpg',\n",
              " 'The Fabs.JPG',\n",
              " 'PalaceOfWestminsterAtNight.jpg',\n",
              " 'Westminster Abbey - West Door.jpg',\n",
              " 'Edinburgh Cockburn St dsc06789.jpg',\n",
              " 'Canterbury Cathedral - Portal Nave Cross-spire.jpeg',\n",
              " 'Kew Gardens Palm House, London - July 2009.jpg',\n",
              " '2005-06-27 - United Kingdom - England - London - Greenwich.jpg',\n",
              " 'Stonehenge2007 07 30.jpg',\n",
              " 'Yard2.jpg',\n",
              " 'Durham Kathedrale Nahaufnahme.jpg',\n",
              " 'Roman Baths in Bath Spa, England - July 2006.jpg',\n",
              " 'Fountains Abbey view02 2005-08-27.jpg',\n",
              " 'Blenheim Palace IMG 3673.JPG',\n",
              " 'Liverpool Pier Head by night.jpg',\n",
              " \"Hadrian's Wall view near Greenhead.jpg\",\n",
              " 'London Tower (1).JPG',\n",
              " 'Wembley Stadium, illuminated.jpg']"
            ]
          },
          "metadata": {
            "tags": []
          },
          "execution_count": 6
        }
      ]
    },
    {
      "metadata": {
        "id": "iIrgOt0yADOw",
        "colab_type": "text"
      },
      "cell_type": "markdown",
      "source": [
        "### 25. テンプレートの抽出\n",
        "記事中に含まれる「基礎情報」テンプレートのフィールド名と値を抽出し，辞書オブジェクトとして格納せよ．"
      ]
    },
    {
      "metadata": {
        "id": "0Rg3AZIMAFqo",
        "colab_type": "code",
        "outputId": "3b356c15-f731-418e-81d2-102930cc00f5",
        "colab": {
          "base_uri": "https://localhost:8080/",
          "height": 904
        }
      },
      "cell_type": "code",
      "source": [
        "s = re.search(r'{{基礎情報.*?\\n\\|(.*)\\n}}', entry_england['text'], re.DOTALL)\n",
        "\n",
        "dict = {}\n",
        "for elm in s.group(1).split('\\n|'):\n",
        "  lst = elm.split(' = ')\n",
        "  dict[lst[0]] = lst[1]\n",
        "\n",
        "dict"
      ],
      "execution_count": 7,
      "outputs": [
        {
          "output_type": "execute_result",
          "data": {
            "text/plain": [
              "{'GDP/人': '36,727<ref name=\"imf-statistics-gdp\" />',\n",
              " 'GDP値': '2兆3162億<ref name=\"imf-statistics-gdp\" />',\n",
              " 'GDP値MER': '2兆4337億<ref name=\"imf-statistics-gdp\" />',\n",
              " 'GDP値元': '1兆5478億<ref name=\"imf-statistics-gdp\">[http://www.imf.org/external/pubs/ft/weo/2012/02/weodata/weorept.aspx?pr.x=70&pr.y=13&sy=2010&ey=2012&scsm=1&ssd=1&sort=country&ds=.&br=1&c=112&s=NGDP%2CNGDPD%2CPPPGDP%2CPPPPC&grp=0&a= IMF>Data and Statistics>World Economic Outlook Databases>By Countrise>United Kingdom]</ref>',\n",
              " 'GDP統計年': '2012',\n",
              " 'GDP統計年MER': '2012',\n",
              " 'GDP統計年元': '2012',\n",
              " 'GDP順位': '6',\n",
              " 'GDP順位MER': '5',\n",
              " 'ISO 3166-1': 'GB / GBR',\n",
              " 'ccTLD': '[[.uk]] / [[.gb]]<ref>使用は.ukに比べ圧倒的少数。</ref>',\n",
              " '人口値': '63,181,775<ref>[http://esa.un.org/unpd/wpp/Excel-Data/population.htm United Nations Department of Economic and Social Affairs>Population Division>Data>Population>Total Population]</ref>',\n",
              " '人口大きさ': '1 E7',\n",
              " '人口密度値': '246',\n",
              " '人口統計年': '2011',\n",
              " '人口順位': '22',\n",
              " '位置画像': 'Location_UK_EU_Europe_001.svg',\n",
              " '元首等氏名': '[[エリザベス2世]]',\n",
              " '元首等肩書': '[[イギリスの君主|女王]]',\n",
              " '公式国名': '{{lang|en|United Kingdom of Great Britain and Northern Ireland}}<ref>英語以外での正式国名:<br/>\\n*{{lang|gd|An Rìoghachd Aonaichte na Breatainn Mhòr agus Eirinn mu Thuath}}（[[スコットランド・ゲール語]]）<br/>\\n*{{lang|cy|Teyrnas Gyfunol Prydain Fawr a Gogledd Iwerddon}}（[[ウェールズ語]]）<br/>\\n*{{lang|ga|Ríocht Aontaithe na Breataine Móire agus Tuaisceart na hÉireann}}（[[アイルランド語]]）<br/>\\n*{{lang|kw|An Rywvaneth Unys a Vreten Veur hag Iwerdhon Glédh}}（[[コーンウォール語]]）<br/>\\n*{{lang|sco|Unitit Kinrick o Great Breetain an Northren Ireland}}（[[スコットランド語]]）<br/>\\n**{{lang|sco|Claught Kängrick o Docht Brätain an Norlin Airlann}}、{{lang|sco|Unitet Kängdom o Great Brittain an Norlin Airlann}}（アルスター・スコットランド語）</ref>',\n",
              " '公用語': '[[英語]]（事実上）',\n",
              " '国旗画像': 'Flag of the United Kingdom.svg',\n",
              " '国歌': '[[女王陛下万歳|神よ女王陛下を守り給え]]',\n",
              " '国章リンク': '（[[イギリスの国章|国章]]）',\n",
              " '国章画像': '[[ファイル:Royal Coat of Arms of the United Kingdom.svg|85px|イギリスの国章]]',\n",
              " '国際電話番号': '44',\n",
              " '夏時間': '+1',\n",
              " '建国形態': '建国',\n",
              " '日本語国名': 'グレートブリテン及び北アイルランド連合王国',\n",
              " '時間帯': '±0',\n",
              " '最大都市': 'ロンドン',\n",
              " '標語': '{{lang|fr|Dieu et mon droit}}<br/>（[[フランス語]]:神と私の権利）',\n",
              " '水面積率': '1.3%',\n",
              " '注記': '<references />',\n",
              " '略名': 'イギリス',\n",
              " '確立年月日1': '[[927年]]／[[843年]]',\n",
              " '確立年月日2': '[[1707年]]',\n",
              " '確立年月日3': '[[1801年]]',\n",
              " '確立年月日4': '[[1927年]]',\n",
              " '確立形態1': '[[イングランド王国]]／[[スコットランド王国]]<br />（両国とも[[連合法 (1707年)|1707年連合法]]まで）',\n",
              " '確立形態2': '[[グレートブリテン王国]]建国<br />（[[連合法 (1707年)|1707年連合法]]）',\n",
              " '確立形態3': '[[グレートブリテン及びアイルランド連合王国]]建国<br />（[[連合法 (1800年)|1800年連合法]]）',\n",
              " '確立形態4': \"現在の国号「'''グレートブリテン及び北アイルランド連合王国'''」に変更\",\n",
              " '通貨': '[[スターリング・ポンド|UKポンド]] (&pound;)',\n",
              " '通貨コード': 'GBP',\n",
              " '面積値': '244,820',\n",
              " '面積大きさ': '1 E11',\n",
              " '面積順位': '76',\n",
              " '首相等氏名': '[[デーヴィッド・キャメロン]]',\n",
              " '首相等肩書': '[[イギリスの首相|首相]]',\n",
              " '首都': '[[ロンドン]]'}"
            ]
          },
          "metadata": {
            "tags": []
          },
          "execution_count": 7
        }
      ]
    },
    {
      "metadata": {
        "id": "l9mtn907AF-c",
        "colab_type": "text"
      },
      "cell_type": "markdown",
      "source": [
        "### 26. 強調マークアップの除去\n",
        "25の処理時に，テンプレートの値からMediaWikiの強調マークアップ（弱い強調，強調，強い強調のすべて）を除去してテキストに変換せよ（参考: マークアップ早見表）．"
      ]
    },
    {
      "metadata": {
        "id": "ekFqYwSwAIXx",
        "colab_type": "code",
        "outputId": "19687935-0216-4d70-f619-28c8f427d15e",
        "colab": {
          "base_uri": "https://localhost:8080/",
          "height": 904
        }
      },
      "cell_type": "code",
      "source": [
        "s = re.search(r'{{基礎情報.*?\\n\\|(.*)\\n}}', entry_england['text'], re.DOTALL)\n",
        "\n",
        "dict = {}\n",
        "for elm in s.group(1).split('\\n|'):\n",
        "  lst = elm.split(' = ')\n",
        "  dict[lst[0]] = re.sub(r\"\\'{2,5}'\", \"\", lst[1])\n",
        "\n",
        "dict"
      ],
      "execution_count": 8,
      "outputs": [
        {
          "output_type": "execute_result",
          "data": {
            "text/plain": [
              "{'GDP/人': '36,727<ref name=\"imf-statistics-gdp\" />',\n",
              " 'GDP値': '2兆3162億<ref name=\"imf-statistics-gdp\" />',\n",
              " 'GDP値MER': '2兆4337億<ref name=\"imf-statistics-gdp\" />',\n",
              " 'GDP値元': '1兆5478億<ref name=\"imf-statistics-gdp\">[http://www.imf.org/external/pubs/ft/weo/2012/02/weodata/weorept.aspx?pr.x=70&pr.y=13&sy=2010&ey=2012&scsm=1&ssd=1&sort=country&ds=.&br=1&c=112&s=NGDP%2CNGDPD%2CPPPGDP%2CPPPPC&grp=0&a= IMF>Data and Statistics>World Economic Outlook Databases>By Countrise>United Kingdom]</ref>',\n",
              " 'GDP統計年': '2012',\n",
              " 'GDP統計年MER': '2012',\n",
              " 'GDP統計年元': '2012',\n",
              " 'GDP順位': '6',\n",
              " 'GDP順位MER': '5',\n",
              " 'ISO 3166-1': 'GB / GBR',\n",
              " 'ccTLD': '[[.uk]] / [[.gb]]<ref>使用は.ukに比べ圧倒的少数。</ref>',\n",
              " '人口値': '63,181,775<ref>[http://esa.un.org/unpd/wpp/Excel-Data/population.htm United Nations Department of Economic and Social Affairs>Population Division>Data>Population>Total Population]</ref>',\n",
              " '人口大きさ': '1 E7',\n",
              " '人口密度値': '246',\n",
              " '人口統計年': '2011',\n",
              " '人口順位': '22',\n",
              " '位置画像': 'Location_UK_EU_Europe_001.svg',\n",
              " '元首等氏名': '[[エリザベス2世]]',\n",
              " '元首等肩書': '[[イギリスの君主|女王]]',\n",
              " '公式国名': '{{lang|en|United Kingdom of Great Britain and Northern Ireland}}<ref>英語以外での正式国名:<br/>\\n*{{lang|gd|An Rìoghachd Aonaichte na Breatainn Mhòr agus Eirinn mu Thuath}}（[[スコットランド・ゲール語]]）<br/>\\n*{{lang|cy|Teyrnas Gyfunol Prydain Fawr a Gogledd Iwerddon}}（[[ウェールズ語]]）<br/>\\n*{{lang|ga|Ríocht Aontaithe na Breataine Móire agus Tuaisceart na hÉireann}}（[[アイルランド語]]）<br/>\\n*{{lang|kw|An Rywvaneth Unys a Vreten Veur hag Iwerdhon Glédh}}（[[コーンウォール語]]）<br/>\\n*{{lang|sco|Unitit Kinrick o Great Breetain an Northren Ireland}}（[[スコットランド語]]）<br/>\\n**{{lang|sco|Claught Kängrick o Docht Brätain an Norlin Airlann}}、{{lang|sco|Unitet Kängdom o Great Brittain an Norlin Airlann}}（アルスター・スコットランド語）</ref>',\n",
              " '公用語': '[[英語]]（事実上）',\n",
              " '国旗画像': 'Flag of the United Kingdom.svg',\n",
              " '国歌': '[[女王陛下万歳|神よ女王陛下を守り給え]]',\n",
              " '国章リンク': '（[[イギリスの国章|国章]]）',\n",
              " '国章画像': '[[ファイル:Royal Coat of Arms of the United Kingdom.svg|85px|イギリスの国章]]',\n",
              " '国際電話番号': '44',\n",
              " '夏時間': '+1',\n",
              " '建国形態': '建国',\n",
              " '日本語国名': 'グレートブリテン及び北アイルランド連合王国',\n",
              " '時間帯': '±0',\n",
              " '最大都市': 'ロンドン',\n",
              " '標語': '{{lang|fr|Dieu et mon droit}}<br/>（[[フランス語]]:神と私の権利）',\n",
              " '水面積率': '1.3%',\n",
              " '注記': '<references />',\n",
              " '略名': 'イギリス',\n",
              " '確立年月日1': '[[927年]]／[[843年]]',\n",
              " '確立年月日2': '[[1707年]]',\n",
              " '確立年月日3': '[[1801年]]',\n",
              " '確立年月日4': '[[1927年]]',\n",
              " '確立形態1': '[[イングランド王国]]／[[スコットランド王国]]<br />（両国とも[[連合法 (1707年)|1707年連合法]]まで）',\n",
              " '確立形態2': '[[グレートブリテン王国]]建国<br />（[[連合法 (1707年)|1707年連合法]]）',\n",
              " '確立形態3': '[[グレートブリテン及びアイルランド連合王国]]建国<br />（[[連合法 (1800年)|1800年連合法]]）',\n",
              " '確立形態4': '現在の国号「グレートブリテン及び北アイルランド連合王国」に変更',\n",
              " '通貨': '[[スターリング・ポンド|UKポンド]] (&pound;)',\n",
              " '通貨コード': 'GBP',\n",
              " '面積値': '244,820',\n",
              " '面積大きさ': '1 E11',\n",
              " '面積順位': '76',\n",
              " '首相等氏名': '[[デーヴィッド・キャメロン]]',\n",
              " '首相等肩書': '[[イギリスの首相|首相]]',\n",
              " '首都': '[[ロンドン]]'}"
            ]
          },
          "metadata": {
            "tags": []
          },
          "execution_count": 8
        }
      ]
    },
    {
      "metadata": {
        "id": "oIjatT7nAIm0",
        "colab_type": "text"
      },
      "cell_type": "markdown",
      "source": [
        "### 27. 内部リンクの除去\n",
        "26の処理に加えて，テンプレートの値からMediaWikiの内部リンクマークアップを除去し，テキストに変換せよ（参考: マークアップ早見表）．"
      ]
    },
    {
      "metadata": {
        "id": "SGQNLfikAK14",
        "colab_type": "code",
        "colab": {
          "base_uri": "https://localhost:8080/",
          "height": 904
        },
        "outputId": "ebe6a6ca-8aca-4ab1-e196-6ecded628302"
      },
      "cell_type": "code",
      "source": [
        "s = re.search(r'{{基礎情報.*?\\n\\|(.*)\\n}}', entry_england['text'], re.DOTALL)\n",
        "\n",
        "dict = {}\n",
        "for elm in s.group(1).split('\\n|'):\n",
        "  lst = elm.split(' = ')\n",
        "  dict[lst[0]] = re.sub(r\"\\'{2,5}'\", \"\", lst[1])\n",
        "  dict[lst[0]] = re.sub(r\"\\[\\[(?:[^\\|\\[\\]]*?\\|)?([^\\|\\[\\]]*?)\\]\\]\", r'\\1', dict[lst[0]])\n",
        "\n",
        "dict"
      ],
      "execution_count": 9,
      "outputs": [
        {
          "output_type": "execute_result",
          "data": {
            "text/plain": [
              "{'GDP/人': '36,727<ref name=\"imf-statistics-gdp\" />',\n",
              " 'GDP値': '2兆3162億<ref name=\"imf-statistics-gdp\" />',\n",
              " 'GDP値MER': '2兆4337億<ref name=\"imf-statistics-gdp\" />',\n",
              " 'GDP値元': '1兆5478億<ref name=\"imf-statistics-gdp\">[http://www.imf.org/external/pubs/ft/weo/2012/02/weodata/weorept.aspx?pr.x=70&pr.y=13&sy=2010&ey=2012&scsm=1&ssd=1&sort=country&ds=.&br=1&c=112&s=NGDP%2CNGDPD%2CPPPGDP%2CPPPPC&grp=0&a= IMF>Data and Statistics>World Economic Outlook Databases>By Countrise>United Kingdom]</ref>',\n",
              " 'GDP統計年': '2012',\n",
              " 'GDP統計年MER': '2012',\n",
              " 'GDP統計年元': '2012',\n",
              " 'GDP順位': '6',\n",
              " 'GDP順位MER': '5',\n",
              " 'ISO 3166-1': 'GB / GBR',\n",
              " 'ccTLD': '.uk / .gb<ref>使用は.ukに比べ圧倒的少数。</ref>',\n",
              " '人口値': '63,181,775<ref>[http://esa.un.org/unpd/wpp/Excel-Data/population.htm United Nations Department of Economic and Social Affairs>Population Division>Data>Population>Total Population]</ref>',\n",
              " '人口大きさ': '1 E7',\n",
              " '人口密度値': '246',\n",
              " '人口統計年': '2011',\n",
              " '人口順位': '22',\n",
              " '位置画像': 'Location_UK_EU_Europe_001.svg',\n",
              " '元首等氏名': 'エリザベス2世',\n",
              " '元首等肩書': '女王',\n",
              " '公式国名': '{{lang|en|United Kingdom of Great Britain and Northern Ireland}}<ref>英語以外での正式国名:<br/>\\n*{{lang|gd|An Rìoghachd Aonaichte na Breatainn Mhòr agus Eirinn mu Thuath}}（スコットランド・ゲール語）<br/>\\n*{{lang|cy|Teyrnas Gyfunol Prydain Fawr a Gogledd Iwerddon}}（ウェールズ語）<br/>\\n*{{lang|ga|Ríocht Aontaithe na Breataine Móire agus Tuaisceart na hÉireann}}（アイルランド語）<br/>\\n*{{lang|kw|An Rywvaneth Unys a Vreten Veur hag Iwerdhon Glédh}}（コーンウォール語）<br/>\\n*{{lang|sco|Unitit Kinrick o Great Breetain an Northren Ireland}}（スコットランド語）<br/>\\n**{{lang|sco|Claught Kängrick o Docht Brätain an Norlin Airlann}}、{{lang|sco|Unitet Kängdom o Great Brittain an Norlin Airlann}}（アルスター・スコットランド語）</ref>',\n",
              " '公用語': '英語（事実上）',\n",
              " '国旗画像': 'Flag of the United Kingdom.svg',\n",
              " '国歌': '神よ女王陛下を守り給え',\n",
              " '国章リンク': '（国章）',\n",
              " '国章画像': '[[ファイル:Royal Coat of Arms of the United Kingdom.svg|85px|イギリスの国章]]',\n",
              " '国際電話番号': '44',\n",
              " '夏時間': '+1',\n",
              " '建国形態': '建国',\n",
              " '日本語国名': 'グレートブリテン及び北アイルランド連合王国',\n",
              " '時間帯': '±0',\n",
              " '最大都市': 'ロンドン',\n",
              " '標語': '{{lang|fr|Dieu et mon droit}}<br/>（フランス語:神と私の権利）',\n",
              " '水面積率': '1.3%',\n",
              " '注記': '<references />',\n",
              " '略名': 'イギリス',\n",
              " '確立年月日1': '927年／843年',\n",
              " '確立年月日2': '1707年',\n",
              " '確立年月日3': '1801年',\n",
              " '確立年月日4': '1927年',\n",
              " '確立形態1': 'イングランド王国／スコットランド王国<br />（両国とも1707年連合法まで）',\n",
              " '確立形態2': 'グレートブリテン王国建国<br />（1707年連合法）',\n",
              " '確立形態3': 'グレートブリテン及びアイルランド連合王国建国<br />（1800年連合法）',\n",
              " '確立形態4': '現在の国号「グレートブリテン及び北アイルランド連合王国」に変更',\n",
              " '通貨': 'UKポンド (&pound;)',\n",
              " '通貨コード': 'GBP',\n",
              " '面積値': '244,820',\n",
              " '面積大きさ': '1 E11',\n",
              " '面積順位': '76',\n",
              " '首相等氏名': 'デーヴィッド・キャメロン',\n",
              " '首相等肩書': '首相',\n",
              " '首都': 'ロンドン'}"
            ]
          },
          "metadata": {
            "tags": []
          },
          "execution_count": 9
        }
      ]
    },
    {
      "metadata": {
        "id": "6Z-h0SYaALIY",
        "colab_type": "text"
      },
      "cell_type": "markdown",
      "source": [
        "### 28. MediaWikiマークアップの除去\n",
        "27の処理に加えて，テンプレートの値からMediaWikiマークアップを可能な限り除去し，国の基本情報を整形せよ．"
      ]
    },
    {
      "metadata": {
        "id": "_Ub00Ui2APnw",
        "colab_type": "code",
        "colab": {
          "base_uri": "https://localhost:8080/",
          "height": 904
        },
        "outputId": "387f42ea-826b-4aff-bc9d-ef78ec7de6b8"
      },
      "cell_type": "code",
      "source": [
        "s = re.search(r'{{基礎情報.*?\\n\\|(.*)\\n}}', entry_england['text'], re.DOTALL)\n",
        "\n",
        "dict = {}\n",
        "for elm in s.group(1).split('\\n|'):\n",
        "  lst = elm.split(' = ')\n",
        "  dict[lst[0]] = re.sub(r\"\\'{2,5}'\", \"\", lst[1])\n",
        "  dict[lst[0]] = re.sub(r\"\\[\\[(?:[^\\|\\[\\]]*?\\|)?([^\\|\\[\\]]*?)\\]\\]\", r'\\1', dict[lst[0]])\n",
        "  dict[lst[0]] = re.sub(r\"<.*?>\", \"\", dict[lst[0]])\n",
        "  dict[lst[0]] = re.sub(r\"\\[\\[.*?\\]\\]\", \"\", dict[lst[0]])\n",
        "  dict[lst[0]] = re.sub(r\"\\[.*?\\]\", \"\", dict[lst[0]])\n",
        "  dict[lst[0]] = re.sub(r\"{{(?:[^{}\\|]*\\|)+([^{}\\|]*)}}\", r'\\1', dict[lst[0]])\n",
        "  \n",
        "dict"
      ],
      "execution_count": 10,
      "outputs": [
        {
          "output_type": "execute_result",
          "data": {
            "text/plain": [
              "{'GDP/人': '36,727',\n",
              " 'GDP値': '2兆3162億',\n",
              " 'GDP値MER': '2兆4337億',\n",
              " 'GDP値元': '1兆5478億',\n",
              " 'GDP統計年': '2012',\n",
              " 'GDP統計年MER': '2012',\n",
              " 'GDP統計年元': '2012',\n",
              " 'GDP順位': '6',\n",
              " 'GDP順位MER': '5',\n",
              " 'ISO 3166-1': 'GB / GBR',\n",
              " 'ccTLD': '.uk / .gb使用は.ukに比べ圧倒的少数。',\n",
              " '人口値': '63,181,775',\n",
              " '人口大きさ': '1 E7',\n",
              " '人口密度値': '246',\n",
              " '人口統計年': '2011',\n",
              " '人口順位': '22',\n",
              " '位置画像': 'Location_UK_EU_Europe_001.svg',\n",
              " '元首等氏名': 'エリザベス2世',\n",
              " '元首等肩書': '女王',\n",
              " '公式国名': 'United Kingdom of Great Britain and Northern Ireland英語以外での正式国名:\\n*An Rìoghachd Aonaichte na Breatainn Mhòr agus Eirinn mu Thuath（スコットランド・ゲール語）\\n*Teyrnas Gyfunol Prydain Fawr a Gogledd Iwerddon（ウェールズ語）\\n*Ríocht Aontaithe na Breataine Móire agus Tuaisceart na hÉireann（アイルランド語）\\n*An Rywvaneth Unys a Vreten Veur hag Iwerdhon Glédh（コーンウォール語）\\n*Unitit Kinrick o Great Breetain an Northren Ireland（スコットランド語）\\n**Claught Kängrick o Docht Brätain an Norlin Airlann、Unitet Kängdom o Great Brittain an Norlin Airlann（アルスター・スコットランド語）',\n",
              " '公用語': '英語（事実上）',\n",
              " '国旗画像': 'Flag of the United Kingdom.svg',\n",
              " '国歌': '神よ女王陛下を守り給え',\n",
              " '国章リンク': '（国章）',\n",
              " '国章画像': '',\n",
              " '国際電話番号': '44',\n",
              " '夏時間': '+1',\n",
              " '建国形態': '建国',\n",
              " '日本語国名': 'グレートブリテン及び北アイルランド連合王国',\n",
              " '時間帯': '±0',\n",
              " '最大都市': 'ロンドン',\n",
              " '標語': 'Dieu et mon droit（フランス語:神と私の権利）',\n",
              " '水面積率': '1.3%',\n",
              " '注記': '',\n",
              " '略名': 'イギリス',\n",
              " '確立年月日1': '927年／843年',\n",
              " '確立年月日2': '1707年',\n",
              " '確立年月日3': '1801年',\n",
              " '確立年月日4': '1927年',\n",
              " '確立形態1': 'イングランド王国／スコットランド王国（両国とも1707年連合法まで）',\n",
              " '確立形態2': 'グレートブリテン王国建国（1707年連合法）',\n",
              " '確立形態3': 'グレートブリテン及びアイルランド連合王国建国（1800年連合法）',\n",
              " '確立形態4': '現在の国号「グレートブリテン及び北アイルランド連合王国」に変更',\n",
              " '通貨': 'UKポンド (&pound;)',\n",
              " '通貨コード': 'GBP',\n",
              " '面積値': '244,820',\n",
              " '面積大きさ': '1 E11',\n",
              " '面積順位': '76',\n",
              " '首相等氏名': 'デーヴィッド・キャメロン',\n",
              " '首相等肩書': '首相',\n",
              " '首都': 'ロンドン'}"
            ]
          },
          "metadata": {
            "tags": []
          },
          "execution_count": 10
        }
      ]
    },
    {
      "metadata": {
        "id": "XbCPfdseANMI",
        "colab_type": "text"
      },
      "cell_type": "markdown",
      "source": [
        "### 29. 国旗画像のURLを取得する\n",
        "テンプレートの内容を利用し，国旗画像のURLを取得せよ．（ヒント: MediaWiki APIのimageinfoを呼び出して，ファイル参照をURLに変換すればよい）"
      ]
    },
    {
      "metadata": {
        "id": "g9rY8O3aAQnB",
        "colab_type": "code",
        "colab": {
          "base_uri": "https://localhost:8080/",
          "height": 34
        },
        "outputId": "4426c256-9e78-4a08-e76c-92dbf8552209"
      },
      "cell_type": "code",
      "source": [
        "import requests\n",
        "import json\n",
        "\n",
        "url = \"https://www.mediawiki.org/w/api.php\"\n",
        "\n",
        "params = {\n",
        "    \"action\":\"query\",\n",
        "    \"format\":\"json\",\n",
        "    \"prop\": \"imageinfo\",\n",
        "    \"titles\":\"File:Flag of the United Kingdom.svg\",\n",
        "    \"iiprop\":\"url\"\n",
        "}\n",
        "\n",
        "response = requests.get(url, params=params)\n",
        "data = response.json()\n",
        "\n",
        "print(data['query']['pages']['-1']['imageinfo'][0]['url'])\n"
      ],
      "execution_count": 36,
      "outputs": [
        {
          "output_type": "stream",
          "text": [
            "https://upload.wikimedia.org/wikipedia/commons/a/ae/Flag_of_the_United_Kingdom.svg\n"
          ],
          "name": "stdout"
        }
      ]
    },
    {
      "metadata": {
        "id": "dsbn3SPJId-V",
        "colab_type": "code",
        "colab": {}
      },
      "cell_type": "code",
      "source": [
        ""
      ],
      "execution_count": 0,
      "outputs": []
    }
  ]
}