{
  "nbformat": 4,
  "nbformat_minor": 0,
  "metadata": {
    "colab": {
      "name": "Chap2",
      "version": "0.3.2",
      "provenance": [],
      "collapsed_sections": [],
      "toc_visible": true,
      "include_colab_link": true
    },
    "kernelspec": {
      "name": "python3",
      "display_name": "Python 3"
    }
  },
  "cells": [
    {
      "cell_type": "markdown",
      "metadata": {
        "id": "view-in-github",
        "colab_type": "text"
      },
      "source": [
        "<a href=\"https://colab.research.google.com/github/matsudo840/nlp100/blob/master/Chap2.ipynb\" target=\"_parent\"><img src=\"https://colab.research.google.com/assets/colab-badge.svg\" alt=\"Open In Colab\"/></a>"
      ]
    },
    {
      "metadata": {
        "id": "JQJU6hCI1Ilu",
        "colab_type": "text"
      },
      "cell_type": "markdown",
      "source": [
        "# 言語処理100本ノック 2015"
      ]
    },
    {
      "metadata": {
        "id": "wgr51S_G07YR",
        "colab_type": "text"
      },
      "cell_type": "markdown",
      "source": [
        "## 第2章: UNIXコマンドの基礎"
      ]
    },
    {
      "metadata": {
        "id": "2ELXwRHV2YVx",
        "colab_type": "text"
      },
      "cell_type": "markdown",
      "source": [
        "### 10. 行数のカウント\n",
        "行数をカウントせよ．確認にはwcコマンドを用いよ．"
      ]
    },
    {
      "metadata": {
        "id": "cr4bqv7I0lg9",
        "colab_type": "code",
        "colab": {
          "base_uri": "https://localhost:8080/",
          "height": 204
        },
        "outputId": "26454ab4-22f1-47ae-84ed-981d34b5a3f9"
      },
      "cell_type": "code",
      "source": [
        "!wget -O /content/hightemp.txt http://www.cl.ecei.tohoku.ac.jp/nlp100/data/hightemp.txt"
      ],
      "execution_count": 15,
      "outputs": [
        {
          "output_type": "stream",
          "text": [
            "--2019-02-28 06:40:34--  http://www.cl.ecei.tohoku.ac.jp/nlp100/data/hightemp.txt\n",
            "Resolving www.cl.ecei.tohoku.ac.jp (www.cl.ecei.tohoku.ac.jp)... 130.34.192.83\n",
            "Connecting to www.cl.ecei.tohoku.ac.jp (www.cl.ecei.tohoku.ac.jp)|130.34.192.83|:80... connected.\n",
            "HTTP request sent, awaiting response... 200 OK\n",
            "Length: 813 [text/plain]\n",
            "Saving to: ‘/content/hightemp.txt’\n",
            "\n",
            "\r/content/hightemp.t   0%[                    ]       0  --.-KB/s               \r/content/hightemp.t 100%[===================>]     813  --.-KB/s    in 0s      \n",
            "\n",
            "2019-02-28 06:40:34 (119 MB/s) - ‘/content/hightemp.txt’ saved [813/813]\n",
            "\n"
          ],
          "name": "stdout"
        }
      ]
    },
    {
      "metadata": {
        "id": "gexZsTgGy4vL",
        "colab_type": "code",
        "colab": {
          "base_uri": "https://localhost:8080/",
          "height": 34
        },
        "outputId": "6b0dee2a-ba4d-4f19-e15b-e6fc7407fda7"
      },
      "cell_type": "code",
      "source": [
        "with open('/content/hightemp.txt', 'r', encoding='utf-8') as f:\n",
        "  for i, l in enumerate(f):\n",
        "    pass\n",
        "\n",
        "print(i + 1)"
      ],
      "execution_count": 16,
      "outputs": [
        {
          "output_type": "stream",
          "text": [
            "24\n"
          ],
          "name": "stdout"
        }
      ]
    },
    {
      "metadata": {
        "id": "wzF8kut6z63z",
        "colab_type": "code",
        "colab": {
          "base_uri": "https://localhost:8080/",
          "height": 34
        },
        "outputId": "4b60c1cc-602c-433a-8097-0aef7cf41a34"
      },
      "cell_type": "code",
      "source": [
        "!wc -l /content/hightemp.txt"
      ],
      "execution_count": 17,
      "outputs": [
        {
          "output_type": "stream",
          "text": [
            "24 /content/hightemp.txt\n"
          ],
          "name": "stdout"
        }
      ]
    },
    {
      "metadata": {
        "id": "DWcNxR7HvPFX",
        "colab_type": "text"
      },
      "cell_type": "markdown",
      "source": [
        "### 11. タブをスペースに置換\n",
        "タブ1文字につきスペース1文字に置換せよ．確認にはsedコマンド，trコマンド，もしくはexpandコマンドを用いよ．"
      ]
    },
    {
      "metadata": {
        "id": "jd54bfVuvStq",
        "colab_type": "text"
      },
      "cell_type": "markdown",
      "source": [
        "### 12. 1列目をcol1.txtに，2列目をcol2.txtに保存\n",
        "各行の1列目だけを抜き出したものをcol1.txtに，2列目だけを抜き出したものをcol2.txtとしてファイルに保存せよ．確認にはcutコマンドを用いよ．"
      ]
    },
    {
      "metadata": {
        "id": "tJBbLEISvWt5",
        "colab_type": "text"
      },
      "cell_type": "markdown",
      "source": [
        "### 13. col1.txtとcol2.txtをマージ\n",
        "12で作ったcol1.txtとcol2.txtを結合し，元のファイルの1列目と2列目をタブ区切りで並べたテキストファイルを作成せよ．確認にはpasteコマンドを用いよ．"
      ]
    },
    {
      "metadata": {
        "id": "UAHsUc_-vaTd",
        "colab_type": "text"
      },
      "cell_type": "markdown",
      "source": [
        "### 14. 先頭からN行を出力\n",
        "自然数Nをコマンドライン引数などの手段で受け取り，入力のうち先頭のN行だけを表示せよ．確認にはheadコマンドを用いよ．"
      ]
    },
    {
      "metadata": {
        "id": "PGZDTpaSvdRG",
        "colab_type": "text"
      },
      "cell_type": "markdown",
      "source": [
        "### 15. 末尾のN行を出力\n",
        "自然数Nをコマンドライン引数などの手段で受け取り，入力のうち末尾のN行だけを表示せよ．確認にはtailコマンドを用いよ．"
      ]
    },
    {
      "metadata": {
        "id": "oKDFhQVmvgCN",
        "colab_type": "text"
      },
      "cell_type": "markdown",
      "source": [
        "### 16. ファイルをN分割する\n",
        "自然数Nをコマンドライン引数などの手段で受け取り，入力のファイルを行単位でN分割せよ．同様の処理をsplitコマンドで実現せよ．"
      ]
    },
    {
      "metadata": {
        "id": "_K1DujR5vjYf",
        "colab_type": "text"
      },
      "cell_type": "markdown",
      "source": [
        "### 17. １列目の文字列の異なり\n",
        "1列目の文字列の種類（異なる文字列の集合）を求めよ．確認にはsort, uniqコマンドを用いよ．"
      ]
    },
    {
      "metadata": {
        "id": "Phe17oj8vl4Y",
        "colab_type": "text"
      },
      "cell_type": "markdown",
      "source": [
        "### 18. 各行を3コラム目の数値の降順にソート\n",
        "各行を3コラム目の数値の逆順で整列せよ（注意: 各行の内容は変更せずに並び替えよ）．確認にはsortコマンドを用いよ（この問題はコマンドで実行した時の結果と合わなくてもよい）．"
      ]
    },
    {
      "metadata": {
        "id": "cQo5eTLqvok5",
        "colab_type": "text"
      },
      "cell_type": "markdown",
      "source": [
        "### 19. 各行の1コラム目の文字列の出現頻度を求め，出現頻度の高い順に並べる\n",
        "各行の1列目の文字列の出現頻度を求め，その高い順に並べて表示せよ．確認にはcut, uniq, sortコマンドを用いよ．"
      ]
    }
  ]
}