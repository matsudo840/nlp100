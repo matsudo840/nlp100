{
  "nbformat": 4,
  "nbformat_minor": 0,
  "metadata": {
    "colab": {
      "name": "Chap2",
      "version": "0.3.2",
      "provenance": [],
      "collapsed_sections": [],
      "toc_visible": true,
      "include_colab_link": true
    },
    "kernelspec": {
      "name": "python3",
      "display_name": "Python 3"
    }
  },
  "cells": [
    {
      "cell_type": "markdown",
      "metadata": {
        "id": "view-in-github",
        "colab_type": "text"
      },
      "source": [
        "<a href=\"https://colab.research.google.com/github/matsudo840/nlp100/blob/master/Chap2.ipynb\" target=\"_parent\"><img src=\"https://colab.research.google.com/assets/colab-badge.svg\" alt=\"Open In Colab\"/></a>"
      ]
    },
    {
      "metadata": {
        "id": "JQJU6hCI1Ilu",
        "colab_type": "text"
      },
      "cell_type": "markdown",
      "source": [
        "# 言語処理100本ノック 2015"
      ]
    },
    {
      "metadata": {
        "id": "wgr51S_G07YR",
        "colab_type": "text"
      },
      "cell_type": "markdown",
      "source": [
        "## 第2章: UNIXコマンドの基礎"
      ]
    },
    {
      "metadata": {
        "id": "2ELXwRHV2YVx",
        "colab_type": "text"
      },
      "cell_type": "markdown",
      "source": [
        "### 10. 行数のカウント\n",
        "行数をカウントせよ．確認にはwcコマンドを用いよ．"
      ]
    },
    {
      "metadata": {
        "id": "cr4bqv7I0lg9",
        "colab_type": "code",
        "outputId": "722db830-d05c-4b15-a214-c0b17b983e78",
        "colab": {
          "base_uri": "https://localhost:8080/",
          "height": 204
        }
      },
      "cell_type": "code",
      "source": [
        "!wget -O /content/hightemp.txt http://www.cl.ecei.tohoku.ac.jp/nlp100/data/hightemp.txt"
      ],
      "execution_count": 1,
      "outputs": [
        {
          "output_type": "stream",
          "text": [
            "--2019-03-04 02:34:14--  http://www.cl.ecei.tohoku.ac.jp/nlp100/data/hightemp.txt\n",
            "Resolving www.cl.ecei.tohoku.ac.jp (www.cl.ecei.tohoku.ac.jp)... 130.34.192.83\n",
            "Connecting to www.cl.ecei.tohoku.ac.jp (www.cl.ecei.tohoku.ac.jp)|130.34.192.83|:80... connected.\n",
            "HTTP request sent, awaiting response... 200 OK\n",
            "Length: 813 [text/plain]\n",
            "Saving to: ‘/content/hightemp.txt’\n",
            "\n",
            "/content/hightemp.t 100%[===================>]     813  --.-KB/s    in 0s      \n",
            "\n",
            "2019-03-04 02:34:14 (96.5 MB/s) - ‘/content/hightemp.txt’ saved [813/813]\n",
            "\n"
          ],
          "name": "stdout"
        }
      ]
    },
    {
      "metadata": {
        "id": "gexZsTgGy4vL",
        "colab_type": "code",
        "outputId": "6b0dee2a-ba4d-4f19-e15b-e6fc7407fda7",
        "colab": {
          "base_uri": "https://localhost:8080/",
          "height": 34
        }
      },
      "cell_type": "code",
      "source": [
        "with open('/content/hightemp.txt', 'r', encoding='utf-8') as f:\n",
        "  for i, l in enumerate(f):\n",
        "    pass\n",
        "\n",
        "print(i + 1)"
      ],
      "execution_count": 0,
      "outputs": [
        {
          "output_type": "stream",
          "text": [
            "24\n"
          ],
          "name": "stdout"
        }
      ]
    },
    {
      "metadata": {
        "id": "wzF8kut6z63z",
        "colab_type": "code",
        "outputId": "4b60c1cc-602c-433a-8097-0aef7cf41a34",
        "colab": {
          "base_uri": "https://localhost:8080/",
          "height": 34
        }
      },
      "cell_type": "code",
      "source": [
        "!wc -l /content/hightemp.txt"
      ],
      "execution_count": 0,
      "outputs": [
        {
          "output_type": "stream",
          "text": [
            "24 /content/hightemp.txt\n"
          ],
          "name": "stdout"
        }
      ]
    },
    {
      "metadata": {
        "id": "DWcNxR7HvPFX",
        "colab_type": "text"
      },
      "cell_type": "markdown",
      "source": [
        "### 11. タブをスペースに置換\n",
        "タブ1文字につきスペース1文字に置換せよ．確認にはsedコマンド，trコマンド，もしくはexpandコマンドを用いよ．"
      ]
    },
    {
      "metadata": {
        "id": "jNIzWA221iYK",
        "colab_type": "code",
        "colab": {
          "base_uri": "https://localhost:8080/",
          "height": 442
        },
        "outputId": "fb1c2555-76d1-477a-e15b-ebbe04827046"
      },
      "cell_type": "code",
      "source": [
        "with open('/content/hightemp.txt', 'r', encoding='utf-8') as f:\n",
        "  print(f.read().replace('\\t', ' '))"
      ],
      "execution_count": 1,
      "outputs": [
        {
          "output_type": "stream",
          "text": [
            "高知県 江川崎 41 2013-08-12\n",
            "埼玉県 熊谷 40.9 2007-08-16\n",
            "岐阜県 多治見 40.9 2007-08-16\n",
            "山形県 山形 40.8 1933-07-25\n",
            "山梨県 甲府 40.7 2013-08-10\n",
            "和歌山県 かつらぎ 40.6 1994-08-08\n",
            "静岡県 天竜 40.6 1994-08-04\n",
            "山梨県 勝沼 40.5 2013-08-10\n",
            "埼玉県 越谷 40.4 2007-08-16\n",
            "群馬県 館林 40.3 2007-08-16\n",
            "群馬県 上里見 40.3 1998-07-04\n",
            "愛知県 愛西 40.3 1994-08-05\n",
            "千葉県 牛久 40.2 2004-07-20\n",
            "静岡県 佐久間 40.2 2001-07-24\n",
            "愛媛県 宇和島 40.2 1927-07-22\n",
            "山形県 酒田 40.1 1978-08-03\n",
            "岐阜県 美濃 40 2007-08-16\n",
            "群馬県 前橋 40 2001-07-24\n",
            "千葉県 茂原 39.9 2013-08-11\n",
            "埼玉県 鳩山 39.9 1997-07-05\n",
            "大阪府 豊中 39.9 1994-08-08\n",
            "山梨県 大月 39.9 1990-07-19\n",
            "山形県 鶴岡 39.9 1978-08-03\n",
            "愛知県 名古屋 39.9 1942-08-02\n",
            "\n"
          ],
          "name": "stdout"
        }
      ]
    },
    {
      "metadata": {
        "id": "6RxUkbiqkidY",
        "colab_type": "code",
        "colab": {
          "base_uri": "https://localhost:8080/",
          "height": 425
        },
        "outputId": "15390ad5-2e2f-4e5d-9082-a1f27c23b605"
      },
      "cell_type": "code",
      "source": [
        "!sed -e 's/\\t/ /g' hightemp.txt"
      ],
      "execution_count": 2,
      "outputs": [
        {
          "output_type": "stream",
          "text": [
            "高知県 江川崎 41 2013-08-12\n",
            "埼玉県 熊谷 40.9 2007-08-16\n",
            "岐阜県 多治見 40.9 2007-08-16\n",
            "山形県 山形 40.8 1933-07-25\n",
            "山梨県 甲府 40.7 2013-08-10\n",
            "和歌山県 かつらぎ 40.6 1994-08-08\n",
            "静岡県 天竜 40.6 1994-08-04\n",
            "山梨県 勝沼 40.5 2013-08-10\n",
            "埼玉県 越谷 40.4 2007-08-16\n",
            "群馬県 館林 40.3 2007-08-16\n",
            "群馬県 上里見 40.3 1998-07-04\n",
            "愛知県 愛西 40.3 1994-08-05\n",
            "千葉県 牛久 40.2 2004-07-20\n",
            "静岡県 佐久間 40.2 2001-07-24\n",
            "愛媛県 宇和島 40.2 1927-07-22\n",
            "山形県 酒田 40.1 1978-08-03\n",
            "岐阜県 美濃 40 2007-08-16\n",
            "群馬県 前橋 40 2001-07-24\n",
            "千葉県 茂原 39.9 2013-08-11\n",
            "埼玉県 鳩山 39.9 1997-07-05\n",
            "大阪府 豊中 39.9 1994-08-08\n",
            "山梨県 大月 39.9 1990-07-19\n",
            "山形県 鶴岡 39.9 1978-08-03\n",
            "愛知県 名古屋 39.9 1942-08-02\n"
          ],
          "name": "stdout"
        }
      ]
    },
    {
      "metadata": {
        "id": "jd54bfVuvStq",
        "colab_type": "text"
      },
      "cell_type": "markdown",
      "source": [
        "### 12. 1列目をcol1.txtに，2列目をcol2.txtに保存\n",
        "各行の1列目だけを抜き出したものをcol1.txtに，2列目だけを抜き出したものをcol2.txtとしてファイルに保存せよ．確認にはcutコマンドを用いよ．"
      ]
    },
    {
      "metadata": {
        "id": "tJBbLEISvWt5",
        "colab_type": "text"
      },
      "cell_type": "markdown",
      "source": [
        "### 13. col1.txtとcol2.txtをマージ\n",
        "12で作ったcol1.txtとcol2.txtを結合し，元のファイルの1列目と2列目をタブ区切りで並べたテキストファイルを作成せよ．確認にはpasteコマンドを用いよ．"
      ]
    },
    {
      "metadata": {
        "id": "UAHsUc_-vaTd",
        "colab_type": "text"
      },
      "cell_type": "markdown",
      "source": [
        "### 14. 先頭からN行を出力\n",
        "自然数Nをコマンドライン引数などの手段で受け取り，入力のうち先頭のN行だけを表示せよ．確認にはheadコマンドを用いよ．"
      ]
    },
    {
      "metadata": {
        "id": "PGZDTpaSvdRG",
        "colab_type": "text"
      },
      "cell_type": "markdown",
      "source": [
        "### 15. 末尾のN行を出力\n",
        "自然数Nをコマンドライン引数などの手段で受け取り，入力のうち末尾のN行だけを表示せよ．確認にはtailコマンドを用いよ．"
      ]
    },
    {
      "metadata": {
        "id": "oKDFhQVmvgCN",
        "colab_type": "text"
      },
      "cell_type": "markdown",
      "source": [
        "### 16. ファイルをN分割する\n",
        "自然数Nをコマンドライン引数などの手段で受け取り，入力のファイルを行単位でN分割せよ．同様の処理をsplitコマンドで実現せよ．"
      ]
    },
    {
      "metadata": {
        "id": "_K1DujR5vjYf",
        "colab_type": "text"
      },
      "cell_type": "markdown",
      "source": [
        "### 17. １列目の文字列の異なり\n",
        "1列目の文字列の種類（異なる文字列の集合）を求めよ．確認にはsort, uniqコマンドを用いよ．"
      ]
    },
    {
      "metadata": {
        "id": "Phe17oj8vl4Y",
        "colab_type": "text"
      },
      "cell_type": "markdown",
      "source": [
        "### 18. 各行を3コラム目の数値の降順にソート\n",
        "各行を3コラム目の数値の逆順で整列せよ（注意: 各行の内容は変更せずに並び替えよ）．確認にはsortコマンドを用いよ（この問題はコマンドで実行した時の結果と合わなくてもよい）．"
      ]
    },
    {
      "metadata": {
        "id": "cQo5eTLqvok5",
        "colab_type": "text"
      },
      "cell_type": "markdown",
      "source": [
        "### 19. 各行の1コラム目の文字列の出現頻度を求め，出現頻度の高い順に並べる\n",
        "各行の1列目の文字列の出現頻度を求め，その高い順に並べて表示せよ．確認にはcut, uniq, sortコマンドを用いよ．"
      ]
    }
  ]
}