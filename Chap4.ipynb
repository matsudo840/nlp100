{
  "nbformat": 4,
  "nbformat_minor": 0,
  "metadata": {
    "colab": {
      "name": "Chap4",
      "version": "0.3.2",
      "provenance": [],
      "collapsed_sections": [],
      "toc_visible": true,
      "include_colab_link": true
    },
    "kernelspec": {
      "name": "python3",
      "display_name": "Python 3"
    }
  },
  "cells": [
    {
      "cell_type": "markdown",
      "metadata": {
        "id": "view-in-github",
        "colab_type": "text"
      },
      "source": [
        "<a href=\"https://colab.research.google.com/github/matsudo840/nlp100/blob/master/Chap4.ipynb\" target=\"_parent\"><img src=\"https://colab.research.google.com/assets/colab-badge.svg\" alt=\"Open In Colab\"/></a>"
      ]
    },
    {
      "cell_type": "markdown",
      "metadata": {
        "id": "xGm28sSTa5za",
        "colab_type": "text"
      },
      "source": [
        "# 言語処理100本ノック 2015"
      ]
    },
    {
      "cell_type": "markdown",
      "metadata": {
        "id": "fFvD5vUzbgbB",
        "colab_type": "text"
      },
      "source": [
        "## 第4章: 形態素解析\n",
        "夏目漱石の小説『吾輩は猫である』の文章（neko.txt）をMeCabを使って形態素解析し，その結果をneko.txt.mecabというファイルに保存せよ．このファイルを用いて，以下の問に対応するプログラムを実装せよ．\n",
        "\n",
        "なお，問題37, 38, 39はmatplotlibもしくはGnuplotを用いるとよい．"
      ]
    },
    {
      "cell_type": "code",
      "metadata": {
        "id": "4f7ZJRGwcFhn",
        "colab_type": "code",
        "outputId": "a5535537-2ef7-4393-870d-6b10c6037b41",
        "colab": {
          "base_uri": "https://localhost:8080/",
          "height": 646
        }
      },
      "source": [
        "!wget http://www.cl.ecei.tohoku.ac.jp/nlp100/data/neko.txt\n",
        "!apt install aptitude\n",
        "!aptitude install mecab libmecab-dev mecab-ipadic-utf8 git make curl xz-utils file -y\n",
        "!pip install mecab-python3==0.7"
      ],
      "execution_count": 37,
      "outputs": [
        {
          "output_type": "stream",
          "text": [
            "--2019-05-20 07:07:38--  http://www.cl.ecei.tohoku.ac.jp/nlp100/data/neko.txt\n",
            "Resolving www.cl.ecei.tohoku.ac.jp (www.cl.ecei.tohoku.ac.jp)... 130.34.192.83\n",
            "Connecting to www.cl.ecei.tohoku.ac.jp (www.cl.ecei.tohoku.ac.jp)|130.34.192.83|:80... connected.\n",
            "HTTP request sent, awaiting response... 200 OK\n",
            "Length: 965825 (943K) [text/plain]\n",
            "Saving to: ‘neko.txt.2’\n",
            "\n",
            "neko.txt.2          100%[===================>] 943.19K   974KB/s    in 1.0s    \n",
            "\n",
            "2019-05-20 07:07:40 (974 KB/s) - ‘neko.txt.2’ saved [965825/965825]\n",
            "\n",
            "Reading package lists... Done\n",
            "Building dependency tree       \n",
            "Reading state information... Done\n",
            "aptitude is already the newest version (0.8.10-6ubuntu1).\n",
            "0 upgraded, 0 newly installed, 0 to remove and 7 not upgraded.\n",
            "mecab is already installed at the requested version (0.996-5)\n",
            "libmecab-dev is already installed at the requested version (0.996-5)\n",
            "mecab-ipadic-utf8 is already installed at the requested version (2.7.0-20070801+main-1)\n",
            "git is already installed at the requested version (1:2.17.1-1ubuntu0.4)\n",
            "make is already installed at the requested version (4.1-9.1ubuntu1)\n",
            "curl is already installed at the requested version (7.58.0-2ubuntu3.6)\n",
            "xz-utils is already installed at the requested version (5.2.2-1.3)\n",
            "file is already installed at the requested version (1:5.32-2ubuntu0.2)\n",
            "mecab is already installed at the requested version (0.996-5)\n",
            "libmecab-dev is already installed at the requested version (0.996-5)\n",
            "mecab-ipadic-utf8 is already installed at the requested version (2.7.0-20070801+main-1)\n",
            "git is already installed at the requested version (1:2.17.1-1ubuntu0.4)\n",
            "make is already installed at the requested version (4.1-9.1ubuntu1)\n",
            "curl is already installed at the requested version (7.58.0-2ubuntu3.6)\n",
            "xz-utils is already installed at the requested version (5.2.2-1.3)\n",
            "file is already installed at the requested version (1:5.32-2ubuntu0.2)\n",
            "No packages will be installed, upgraded, or removed.\n",
            "0 packages upgraded, 0 newly installed, 0 to remove and 7 not upgraded.\n",
            "Need to get 0 B of archives. After unpacking 0 B will be used.\n",
            "                            \n",
            "Requirement already satisfied: mecab-python3==0.7 in /usr/local/lib/python3.6/dist-packages (0.7)\n"
          ],
          "name": "stdout"
        }
      ]
    },
    {
      "cell_type": "code",
      "metadata": {
        "id": "WQ0W3VvCcTg-",
        "colab_type": "code",
        "colab": {}
      },
      "source": [
        "import MeCab"
      ],
      "execution_count": 0,
      "outputs": []
    },
    {
      "cell_type": "code",
      "metadata": {
        "id": "J24PmVNedLDu",
        "colab_type": "code",
        "colab": {}
      },
      "source": [
        "tagger = MeCab.Tagger()\n",
        "\n",
        "with open('neko.txt', 'r') as f:\n",
        "  neko_mecab = tagger.parse(f.read())\n",
        "\n",
        "with open('neko.txt.mecab', 'w', encoding='utf-8') as g:\n",
        "   g.write(neko_mecab)\n"
      ],
      "execution_count": 0,
      "outputs": []
    },
    {
      "cell_type": "code",
      "metadata": {
        "id": "Y9bkzDJ05VLF",
        "colab_type": "code",
        "outputId": "18d1b6b5-3f38-4f8e-866c-66b98157c1d7",
        "colab": {
          "base_uri": "https://localhost:8080/",
          "height": 357
        }
      },
      "source": [
        "!head -20 neko.txt.mecab"
      ],
      "execution_count": 40,
      "outputs": [
        {
          "output_type": "stream",
          "text": [
            "一\t名詞,数,*,*,*,*,一,イチ,イチ\n",
            "　\t記号,空白,*,*,*,*,　,　,　\n",
            "吾輩\t名詞,代名詞,一般,*,*,*,吾輩,ワガハイ,ワガハイ\n",
            "は\t助詞,係助詞,*,*,*,*,は,ハ,ワ\n",
            "猫\t名詞,一般,*,*,*,*,猫,ネコ,ネコ\n",
            "で\t助動詞,*,*,*,特殊・ダ,連用形,だ,デ,デ\n",
            "ある\t助動詞,*,*,*,五段・ラ行アル,基本形,ある,アル,アル\n",
            "。\t記号,句点,*,*,*,*,。,。,。\n",
            "名前\t名詞,一般,*,*,*,*,名前,ナマエ,ナマエ\n",
            "は\t助詞,係助詞,*,*,*,*,は,ハ,ワ\n",
            "まだ\t副詞,助詞類接続,*,*,*,*,まだ,マダ,マダ\n",
            "無い\t形容詞,自立,*,*,形容詞・アウオ段,基本形,無い,ナイ,ナイ\n",
            "。\t記号,句点,*,*,*,*,。,。,。\n",
            "　\t記号,空白,*,*,*,*,　,　,　\n",
            "どこ\t名詞,代名詞,一般,*,*,*,どこ,ドコ,ドコ\n",
            "で\t助詞,格助詞,一般,*,*,*,で,デ,デ\n",
            "生れ\t動詞,自立,*,*,一段,連用形,生れる,ウマレ,ウマレ\n",
            "た\t助動詞,*,*,*,特殊・タ,基本形,た,タ,タ\n",
            "か\t助詞,副助詞／並立助詞／終助詞,*,*,*,*,か,カ,カ\n",
            "とんと\t副詞,一般,*,*,*,*,とんと,トント,トント\n"
          ],
          "name": "stdout"
        }
      ]
    },
    {
      "cell_type": "markdown",
      "metadata": {
        "id": "0lL7JUhrbj3h",
        "colab_type": "text"
      },
      "source": [
        "### 30. 形態素解析結果の読み込み\n",
        "形態素解析結果（neko.txt.mecab）を読み込むプログラムを実装せよ．ただし，各形態素は表層形（surface），基本形（base），品詞（pos），品詞細分類1（pos1）をキーとするマッピング型に格納し，1文を形態素（マッピング型）のリストとして表現せよ．第4章の残りの問題では，ここで作ったプログラムを活用せよ．"
      ]
    },
    {
      "cell_type": "code",
      "metadata": {
        "id": "5hYrwej_inwh",
        "colab_type": "code",
        "colab": {}
      },
      "source": [
        "import re\n",
        "\n",
        "sentence = []\n",
        "sentences = []\n",
        "\n",
        "with open('neko.txt.mecab', 'r') as f:\n",
        "  for rows in f:\n",
        "    columns = re.split('[\\t,]', rows.rstrip())\n",
        "    if len(columns) >= 8:\n",
        "      if columns[2] == '空白':\n",
        "        sentences.append(sentence)\n",
        "        sentence = []\n",
        "      else:\n",
        "        morpheme = {\n",
        "                  'surface': columns[0],\n",
        "                  'base': columns[7],\n",
        "                  'pos': columns[1],\n",
        "                  'pos1': columns[2]\n",
        "              }\n",
        "        sentence.append(morpheme)"
      ],
      "execution_count": 0,
      "outputs": []
    },
    {
      "cell_type": "markdown",
      "metadata": {
        "id": "8gMYiCP8bo7Y",
        "colab_type": "text"
      },
      "source": [
        "### 31. 動詞\n",
        "動詞の表層形をすべて抽出せよ．"
      ]
    },
    {
      "cell_type": "code",
      "metadata": {
        "id": "kVqdsVdAnwi-",
        "colab_type": "code",
        "colab": {}
      },
      "source": [
        "from itertools import chain\n",
        "\n",
        "verbs_surface = []\n",
        "for m in chain.from_iterable(sentences):\n",
        "  if m['pos'] == '動詞':\n",
        "    verbs_surface.append(m['surface'])"
      ],
      "execution_count": 0,
      "outputs": []
    },
    {
      "cell_type": "code",
      "metadata": {
        "id": "nar7wBXFlrGQ",
        "colab_type": "code",
        "outputId": "79ba351f-7cab-42e7-b8af-dd64c288e338",
        "colab": {
          "base_uri": "https://localhost:8080/",
          "height": 34
        }
      },
      "source": [
        "verbs_surface[:10]"
      ],
      "execution_count": 43,
      "outputs": [
        {
          "output_type": "execute_result",
          "data": {
            "text/plain": [
              "['生れ', 'つか', 'し', '泣い', 'し', 'いる', '始め', '見', '聞く', '捕え']"
            ]
          },
          "metadata": {
            "tags": []
          },
          "execution_count": 43
        }
      ]
    },
    {
      "cell_type": "markdown",
      "metadata": {
        "id": "mGFosDXmbqp-",
        "colab_type": "text"
      },
      "source": [
        "### 32. 動詞の原形\n",
        "動詞の原形をすべて抽出せよ．\n"
      ]
    },
    {
      "cell_type": "code",
      "metadata": {
        "id": "y79WQVo-8ViU",
        "colab_type": "code",
        "colab": {}
      },
      "source": [
        "from itertools import chain\n",
        "\n",
        "verbs_base = []\n",
        "for m in chain.from_iterable(sentences):\n",
        "  if m['pos'] == '動詞':\n",
        "    verbs_base.append(m['base'])"
      ],
      "execution_count": 0,
      "outputs": []
    },
    {
      "cell_type": "code",
      "metadata": {
        "id": "igJ7TYxl8vQW",
        "colab_type": "code",
        "outputId": "d1c01fe7-e1d5-4b50-eac9-7cc2155029da",
        "colab": {
          "base_uri": "https://localhost:8080/",
          "height": 34
        }
      },
      "source": [
        "verbs_base[:10]"
      ],
      "execution_count": 45,
      "outputs": [
        {
          "output_type": "execute_result",
          "data": {
            "text/plain": [
              "['生れる', 'つく', 'する', '泣く', 'する', 'いる', '始める', '見る', '聞く', '捕える']"
            ]
          },
          "metadata": {
            "tags": []
          },
          "execution_count": 45
        }
      ]
    },
    {
      "cell_type": "markdown",
      "metadata": {
        "id": "5J1uhX2Nbr6f",
        "colab_type": "text"
      },
      "source": [
        "### 33. サ変名詞\n",
        "サ変接続の名詞をすべて抽出せよ．"
      ]
    },
    {
      "cell_type": "code",
      "metadata": {
        "id": "EEHYseaEA8uA",
        "colab_type": "code",
        "colab": {}
      },
      "source": [
        "from itertools import chain\n",
        "\n",
        "nouns_sa = []\n",
        "for m in chain.from_iterable(sentences):\n",
        "  if m['pos'] == '名詞' and m['pos1'] == 'サ変接続':\n",
        "    nouns_sa.append(m['base'])"
      ],
      "execution_count": 0,
      "outputs": []
    },
    {
      "cell_type": "code",
      "metadata": {
        "id": "sOGa6ctfBEZE",
        "colab_type": "code",
        "outputId": "426180cf-7f9e-4f7f-ccb8-1838d0868752",
        "colab": {
          "base_uri": "https://localhost:8080/",
          "height": 34
        }
      },
      "source": [
        "nouns_sa[:10]"
      ],
      "execution_count": 47,
      "outputs": [
        {
          "output_type": "execute_result",
          "data": {
            "text/plain": [
              "['見当', '記憶', '話', '装飾', '突起', '運転', '記憶', '分別', '決心', '我慢']"
            ]
          },
          "metadata": {
            "tags": []
          },
          "execution_count": 47
        }
      ]
    },
    {
      "cell_type": "markdown",
      "metadata": {
        "id": "toTZPdeSbtco",
        "colab_type": "text"
      },
      "source": [
        "### 34. 「AのB」\n",
        "2つの名詞が「の」で連結されている名詞句を抽出せよ．"
      ]
    },
    {
      "cell_type": "code",
      "metadata": {
        "id": "yfnXXp4oGJ53",
        "colab_type": "code",
        "colab": {}
      },
      "source": [
        "n_no_n = []\n",
        "for sentence in sentences:\n",
        "  for w1, w2, w3 in zip(sentence[0:], sentence[1:], sentence[2:]):\n",
        "    if w1['pos'] == '名詞' and w2['surface'] == 'の' and w3['pos'] == '名詞':\n",
        "      n_no_n.append(w1['surface'] + w2['surface'] + w3['surface'])"
      ],
      "execution_count": 0,
      "outputs": []
    },
    {
      "cell_type": "code",
      "metadata": {
        "id": "jDL26UGsF9x2",
        "colab_type": "code",
        "outputId": "a1013b64-e18b-49e7-a7bb-12f6727f5340",
        "colab": {
          "base_uri": "https://localhost:8080/",
          "height": 34
        }
      },
      "source": [
        "n_no_n[:10]"
      ],
      "execution_count": 49,
      "outputs": [
        {
          "output_type": "execute_result",
          "data": {
            "text/plain": [
              "['彼の掌', '掌の上', '書生の顔', 'はずの顔', '顔の真中', '穴の中', '書生の掌', '掌の裏', '何の事', '肝心の母親']"
            ]
          },
          "metadata": {
            "tags": []
          },
          "execution_count": 49
        }
      ]
    },
    {
      "cell_type": "markdown",
      "metadata": {
        "id": "kcKjh-NubuyQ",
        "colab_type": "text"
      },
      "source": [
        "### 35. 名詞の連接\n",
        "名詞の連接（連続して出現する名詞）を最長一致で抽出せよ．"
      ]
    },
    {
      "cell_type": "code",
      "metadata": {
        "id": "ARK2logmLTrb",
        "colab_type": "code",
        "colab": {}
      },
      "source": [
        "long_nouns = []\n",
        "\n",
        "for sentence in sentences:\n",
        "  cnt = 0\n",
        "  long_noun = ''\n",
        "  \n",
        "  for w in sentence:\n",
        "    if w['pos'] == '名詞':\n",
        "      cnt += 1\n",
        "      long_noun += w['surface']\n",
        "    else:\n",
        "      if cnt >= 2:\n",
        "        long_nouns.append(long_noun)\n",
        "      cnt = 0\n",
        "      long_noun = ''\n"
      ],
      "execution_count": 0,
      "outputs": []
    },
    {
      "cell_type": "code",
      "metadata": {
        "id": "R6z3xn1e3bjD",
        "colab_type": "code",
        "colab": {
          "base_uri": "https://localhost:8080/",
          "height": 34
        },
        "outputId": "34a7376f-9bbd-4bd0-efd9-4e75236178a6"
      },
      "source": [
        "long_nouns[:10]"
      ],
      "execution_count": 51,
      "outputs": [
        {
          "output_type": "execute_result",
          "data": {
            "text/plain": [
              "['人間中', '一番獰悪', '時妙', '一毛', 'その後猫', '一度', 'ぷうぷうと煙', '邸内', '三毛', '書生以外']"
            ]
          },
          "metadata": {
            "tags": []
          },
          "execution_count": 51
        }
      ]
    },
    {
      "cell_type": "markdown",
      "metadata": {
        "id": "JBLwXef9bwNH",
        "colab_type": "text"
      },
      "source": [
        "### 36. 単語の出現頻度\n",
        "文章中に出現する単語とその出現頻度を求め，出現頻度の高い順に並べよ．"
      ]
    },
    {
      "cell_type": "code",
      "metadata": {
        "id": "whfaEJTo5gh-",
        "colab_type": "code",
        "colab": {}
      },
      "source": [
        "from collections import defaultdict\n",
        "from itertools import chain\n",
        "\n",
        "d = defaultdict(int)\n",
        "\n",
        "for m in chain.from_iterable(sentences):\n",
        "  d[m['base']] += 1\n",
        "\n",
        "d_sorted = sorted(d.items(), key=lambda x:x[1], reverse=True)"
      ],
      "execution_count": 0,
      "outputs": []
    },
    {
      "cell_type": "code",
      "metadata": {
        "id": "YCXPdGYy8BSQ",
        "colab_type": "code",
        "colab": {
          "base_uri": "https://localhost:8080/",
          "height": 187
        },
        "outputId": "45856827-f227-4124-c873-c859f2998905"
      },
      "source": [
        "d_sorted[:10]"
      ],
      "execution_count": 53,
      "outputs": [
        {
          "output_type": "execute_result",
          "data": {
            "text/plain": [
              "[('の', 9187),\n",
              " ('。', 7474),\n",
              " ('て', 6850),\n",
              " ('、', 6769),\n",
              " ('は', 6419),\n",
              " ('に', 6263),\n",
              " ('を', 6068),\n",
              " ('だ', 5973),\n",
              " ('と', 5515),\n",
              " ('が', 5338)]"
            ]
          },
          "metadata": {
            "tags": []
          },
          "execution_count": 53
        }
      ]
    },
    {
      "cell_type": "markdown",
      "metadata": {
        "id": "jBOvF2tubxo4",
        "colab_type": "text"
      },
      "source": [
        "### 37. 頻度上位10語\n",
        "出現頻度が高い10語とその出現頻度をグラフ（例えば棒グラフなど）で表示せよ．"
      ]
    },
    {
      "cell_type": "code",
      "metadata": {
        "id": "j977pSMMDZ7V",
        "colab_type": "code",
        "colab": {}
      },
      "source": [
        "names = [x[0] for x in d_sorted[:10]]\n",
        "values = [x[1] for x in d_sorted[:10]]"
      ],
      "execution_count": 0,
      "outputs": []
    },
    {
      "cell_type": "code",
      "metadata": {
        "id": "s7Hbl0FPERto",
        "colab_type": "code",
        "colab": {
          "base_uri": "https://localhost:8080/",
          "height": 34
        },
        "outputId": "c720ecae-997a-4b4d-b1c4-d359ab44b73f"
      },
      "source": [
        "!pip install japanize-matplotlib"
      ],
      "execution_count": 55,
      "outputs": [
        {
          "output_type": "stream",
          "text": [
            "Requirement already satisfied: japanize-matplotlib in /usr/local/lib/python3.6/dist-packages (1.0.4)\n"
          ],
          "name": "stdout"
        }
      ]
    },
    {
      "cell_type": "code",
      "metadata": {
        "id": "2s_YKR4LCXim",
        "colab_type": "code",
        "colab": {
          "base_uri": "https://localhost:8080/",
          "height": 275
        },
        "outputId": "a94a9019-d163-470b-b602-20bd2e1f90ca"
      },
      "source": [
        "import matplotlib.pyplot as plt\n",
        "import japanize_matplotlib\n",
        "\n",
        "plt.bar(names, values)\n",
        "plt.show()"
      ],
      "execution_count": 56,
      "outputs": [
        {
          "output_type": "display_data",
          "data": {
            "image/png": "[encoded data removed]",
            "text/plain": [
              "<Figure size 432x288 with 1 Axes>"
            ]
          },
          "metadata": {
            "tags": []
          }
        }
      ]
    },
    {
      "cell_type": "markdown",
      "metadata": {
        "id": "0xc8XNABby1g",
        "colab_type": "text"
      },
      "source": [
        "### 38. ヒストグラム\n",
        "単語の出現頻度のヒストグラム（横軸に出現頻度，縦軸に出現頻度をとる単語の種類数を棒グラフで表したもの）を描け．"
      ]
    },
    {
      "cell_type": "markdown",
      "metadata": {
        "id": "uJDoViQbbz-I",
        "colab_type": "text"
      },
      "source": [
        "### 39. Zipfの法則\n",
        "単語の出現頻度順位を横軸，その出現頻度を縦軸として，両対数グラフをプロットせよ．"
      ]
    },
    {
      "cell_type": "code",
      "metadata": {
        "id": "u6x1Sc-yb1f4",
        "colab_type": "code",
        "colab": {}
      },
      "source": [
        ""
      ],
      "execution_count": 0,
      "outputs": []
    }
  ]
}