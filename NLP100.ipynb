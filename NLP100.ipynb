{
  "nbformat": 4,
  "nbformat_minor": 0,
  "metadata": {
    "colab": {
      "name": "NLP100",
      "version": "0.3.2",
      "provenance": [],
      "collapsed_sections": [],
      "toc_visible": true,
      "include_colab_link": true
    },
    "kernelspec": {
      "name": "python3",
      "display_name": "Python 3"
    }
  },
  "cells": [
    {
      "cell_type": "markdown",
      "metadata": {
        "id": "view-in-github",
        "colab_type": "text"
      },
      "source": [
        "<a href=\"https://colab.research.google.com/github/matsudo840/nlp100/blob/master/NLP100.ipynb\" target=\"_parent\"><img src=\"https://colab.research.google.com/assets/colab-badge.svg\" alt=\"Open In Colab\"/></a>"
      ]
    },
    {
      "metadata": {
        "id": "JQJU6hCI1Ilu",
        "colab_type": "text"
      },
      "cell_type": "markdown",
      "source": [
        "# 言語処理100本ノック 2015"
      ]
    },
    {
      "metadata": {
        "id": "wgr51S_G07YR",
        "colab_type": "text"
      },
      "cell_type": "markdown",
      "source": [
        "## 第1章: 準備運動"
      ]
    },
    {
      "metadata": {
        "id": "-fbnTpnq92WY",
        "colab_type": "text"
      },
      "cell_type": "markdown",
      "source": [
        "### 00. 文字列の逆順\n",
        "文字列\"stressed\"の文字を逆に（末尾から先頭に向かって）並べた文字列を得よ．"
      ]
    },
    {
      "metadata": {
        "id": "KnblVrYo-BVn",
        "colab_type": "code",
        "outputId": "150fc648-9b3f-4d6b-d29b-953511e38f48",
        "colab": {
          "base_uri": "https://localhost:8080/",
          "height": 34
        }
      },
      "cell_type": "code",
      "source": [
        "print(\"stressed\"[::-1])"
      ],
      "execution_count": 0,
      "outputs": [
        {
          "output_type": "stream",
          "text": [
            "desserts\n"
          ],
          "name": "stdout"
        }
      ]
    },
    {
      "metadata": {
        "id": "nFj1y6dI2UgX",
        "colab_type": "text"
      },
      "cell_type": "markdown",
      "source": [
        "### 01. 「パタトクカシーー」\n",
        "「パタトクカシーー」という文字列の1,3,5,7文字目を取り出して連結した文字列を得よ．"
      ]
    },
    {
      "metadata": {
        "id": "h_EoovoG2gc3",
        "colab_type": "code",
        "outputId": "978b55fd-1c51-4c64-9339-8e75428dbb17",
        "colab": {
          "base_uri": "https://localhost:8080/",
          "height": 34
        }
      },
      "cell_type": "code",
      "source": [
        "str01 = \"パタトクカシーー\"\n",
        "print(str01[::2])"
      ],
      "execution_count": 0,
      "outputs": [
        {
          "output_type": "stream",
          "text": [
            "パトカー\n"
          ],
          "name": "stdout"
        }
      ]
    },
    {
      "metadata": {
        "id": "v6etOKr7-P-m",
        "colab_type": "text"
      },
      "cell_type": "markdown",
      "source": [
        "### 02. 「パトカー」＋「タクシー」＝「パタトクカシーー」\n",
        "「パトカー」＋「タクシー」の文字を先頭から交互に連結して文字列「パタトクカシーー」を得よ．"
      ]
    },
    {
      "metadata": {
        "id": "jR3CbfXk2Edf",
        "colab_type": "code",
        "outputId": "563ec229-496e-4497-c3a5-6aad16e8b950",
        "colab": {
          "base_uri": "https://localhost:8080/",
          "height": 34
        }
      },
      "cell_type": "code",
      "source": [
        "str02_1 = \"パトカー\"\n",
        "str02_2 = \"タクシー\"\n",
        "\n",
        "for i, j in zip(str02_1, str02_2):\n",
        "  print(i + j, end = \"\")"
      ],
      "execution_count": 0,
      "outputs": [
        {
          "output_type": "stream",
          "text": [
            "パタトクカシーー"
          ],
          "name": "stdout"
        }
      ]
    },
    {
      "metadata": {
        "id": "FsIYf0Ht3Bt4",
        "colab_type": "text"
      },
      "cell_type": "markdown",
      "source": [
        "### 03. 円周率\n",
        "\"Now I need a drink, alcoholic of course, after the heavy lectures involving quantum mechanics.\"という文を単語に分解し，各単語の（アルファベットの）文字数を先頭から出現順に並べたリストを作成せよ．"
      ]
    },
    {
      "metadata": {
        "id": "kaS3GAtx3n4-",
        "colab_type": "code",
        "outputId": "aa864304-ce6a-466b-8761-174d5bc92b4d",
        "colab": {
          "base_uri": "https://localhost:8080/",
          "height": 34
        }
      },
      "cell_type": "code",
      "source": [
        "str03 = \"Now I need a drink, alcoholic of course, after the heavy lectures involving quantum mechanics.\"\n",
        "words = str03.split(\" \")\n",
        "\n",
        "list03 = []\n",
        "\n",
        "for i in words:\n",
        "  list03.append(len(i.rstrip(\".,\")))\n",
        "\n",
        "list03"
      ],
      "execution_count": 0,
      "outputs": [
        {
          "output_type": "execute_result",
          "data": {
            "text/plain": [
              "[3, 1, 4, 1, 5, 9, 2, 6, 5, 3, 5, 8, 9, 7, 9]"
            ]
          },
          "metadata": {
            "tags": []
          },
          "execution_count": 9
        }
      ]
    },
    {
      "metadata": {
        "id": "9tz7RYlrZFHu",
        "colab_type": "text"
      },
      "cell_type": "markdown",
      "source": [
        "### 04. 元素記号\n",
        "\"Hi He Lied Because Boron Could Not Oxidize Fluorine. New Nations Might Also Sign Peace Security Clause. Arthur King Can.\"という文を単語に分解し，1, 5, 6, 7, 8, 9, 15, 16, 19番目の単語は先頭の1文字，それ以外の単語は先頭に2文字を取り出し，取り出した文字列から単語の位置（先頭から何番目の単語か）への連想配列（辞書型もしくはマップ型）を作成せよ．"
      ]
    },
    {
      "metadata": {
        "id": "9W9SSxZQZZ-J",
        "colab_type": "code",
        "outputId": "f22ef727-77dc-4346-c200-c9fb342dece8",
        "colab": {
          "base_uri": "https://localhost:8080/",
          "height": 357
        }
      },
      "cell_type": "code",
      "source": [
        "str04 = \"Hi He Lied Because Boron Could Not Oxidize Fluorine. New Nations Might Also Sign Peace Security Clause. Arthur King Can.\"\n",
        "words04 = str04.split(\" \")\n",
        "\n",
        "words04"
      ],
      "execution_count": 0,
      "outputs": [
        {
          "output_type": "execute_result",
          "data": {
            "text/plain": [
              "['Hi',\n",
              " 'He',\n",
              " 'Lied',\n",
              " 'Because',\n",
              " 'Boron',\n",
              " 'Could',\n",
              " 'Not',\n",
              " 'Oxidize',\n",
              " 'Fluorine.',\n",
              " 'New',\n",
              " 'Nations',\n",
              " 'Might',\n",
              " 'Also',\n",
              " 'Sign',\n",
              " 'Peace',\n",
              " 'Security',\n",
              " 'Clause.',\n",
              " 'Arthur',\n",
              " 'King',\n",
              " 'Can.']"
            ]
          },
          "metadata": {
            "tags": []
          },
          "execution_count": 10
        }
      ]
    },
    {
      "metadata": {
        "id": "TYrpvdXvaYUC",
        "colab_type": "code",
        "outputId": "72cf2bfe-327a-4ddf-88fb-df5cf725d07d",
        "colab": {
          "base_uri": "https://localhost:8080/",
          "height": 357
        }
      },
      "cell_type": "code",
      "source": [
        "atoms = {}\n",
        "\n",
        "for n, atom in enumerate(words04, start=1):\n",
        "  if n in [1, 5, 6, 7, 8, 9, 15, 16, 19]:\n",
        "    atoms[atom[:1]] = n\n",
        "  else:\n",
        "    atoms[atom[:2]] = n\n",
        "\n",
        "atomsb"
      ],
      "execution_count": 0,
      "outputs": [
        {
          "output_type": "execute_result",
          "data": {
            "text/plain": [
              "{'Al': 13,\n",
              " 'Ar': 18,\n",
              " 'B': 5,\n",
              " 'Be': 4,\n",
              " 'C': 6,\n",
              " 'Ca': 20,\n",
              " 'Cl': 17,\n",
              " 'F': 9,\n",
              " 'H': 1,\n",
              " 'He': 2,\n",
              " 'K': 19,\n",
              " 'Li': 3,\n",
              " 'Mi': 12,\n",
              " 'N': 7,\n",
              " 'Na': 11,\n",
              " 'Ne': 10,\n",
              " 'O': 8,\n",
              " 'P': 15,\n",
              " 'S': 16,\n",
              " 'Si': 14}"
            ]
          },
          "metadata": {
            "tags": []
          },
          "execution_count": 11
        }
      ]
    },
    {
      "metadata": {
        "id": "njVHey3wcYTQ",
        "colab_type": "text"
      },
      "cell_type": "markdown",
      "source": [
        "### 05. n-gram\n",
        "与えられたシーケンス（文字列やリストなど）からn-gramを作る関数を作成せよ．この関数を用い，\"I am an NLPer\"という文から単語bi-gram，文字bi-gramを得よ．"
      ]
    },
    {
      "metadata": {
        "id": "Nh22hbsvhDwk",
        "colab_type": "text"
      },
      "cell_type": "markdown",
      "source": [
        "```\n",
        "Nグラム（読み）えぬぐらむ（英語表記）n-gram; Ngram\n",
        "\n",
        "任意の文字列や文書を連続したn個の文字で分割するテキスト分割方法．特に，nが1の場合をユニグラム（uni-gram），2の場合をバイグラム（bi-gram），3の場合をトライグラム（tri-gram）と呼ぶ．最初の分割後は1文字ずつ移動して順次分割を行う．図書館情報学の分野では，検索システムにおける索引の自動抽出においてよく用いられる．例えば，「図書館情報学」をバイグラムで分割すると，「図書」「書館」「館情」「情報」「報学」となる．\n",
        "```\n",
        "\n",
        "[コトバンク - Nグラム](https://kotobank.jp/word/N%E3%82%B0%E3%83%A9%E3%83%A0-1702302)"
      ]
    },
    {
      "metadata": {
        "id": "lt79Psxul36m",
        "colab_type": "code",
        "colab": {}
      },
      "cell_type": "code",
      "source": [
        "def ngram(seq, n):\n",
        "\n",
        "  lst = []\n",
        "\n",
        "  for k in range(len(seq) - n + 1):\n",
        "    lst.append(seq[k:k+n])\n",
        "\n",
        "  return lst"
      ],
      "execution_count": 0,
      "outputs": []
    },
    {
      "metadata": {
        "id": "DX_5_EFVs8YP",
        "colab_type": "code",
        "outputId": "772167d0-7db0-4985-b573-11aec57ab927",
        "colab": {
          "base_uri": "https://localhost:8080/",
          "height": 34
        }
      },
      "cell_type": "code",
      "source": [
        "words = \"I am an NLPer\".split(\" \")\n",
        "\n",
        "ngram_w2 = ngram(words, 2)\n",
        "ngram_w2"
      ],
      "execution_count": 0,
      "outputs": [
        {
          "output_type": "execute_result",
          "data": {
            "text/plain": [
              "[['I', 'am'], ['am', 'an'], ['an', 'NLPer']]"
            ]
          },
          "metadata": {
            "tags": []
          },
          "execution_count": 49
        }
      ]
    },
    {
      "metadata": {
        "id": "Xkdn2FGBtd8H",
        "colab_type": "code",
        "outputId": "9a0e71a1-5f05-450e-dba5-d6c37592e737",
        "colab": {
          "base_uri": "https://localhost:8080/",
          "height": 34
        }
      },
      "cell_type": "code",
      "source": [
        "strs = \"I am an NLPer\"\n",
        "\n",
        "ngram_s2 = ngram(strs, 2)\n",
        "ngram_s2"
      ],
      "execution_count": 0,
      "outputs": [
        {
          "output_type": "execute_result",
          "data": {
            "text/plain": [
              "['I ', ' a', 'am', 'm ', ' a', 'an', 'n ', ' N', 'NL', 'LP', 'Pe', 'er']"
            ]
          },
          "metadata": {
            "tags": []
          },
          "execution_count": 50
        }
      ]
    },
    {
      "metadata": {
        "id": "HSfzIoEvgL2G",
        "colab_type": "text"
      },
      "cell_type": "markdown",
      "source": [
        "### 06. 集合\n",
        "\"paraparaparadise\"と\"paragraph\"に含まれる文字bi-gramの集合を，それぞれ, XとYとして求め，XとYの和集合，積集合，差集合を求めよ．さらに，'se'というbi-gramがXおよびYに含まれるかどうかを調べよ．"
      ]
    },
    {
      "metadata": {
        "id": "uR7E-fMNu3ly",
        "colab_type": "code",
        "outputId": "dd34f250-7f9d-4dae-bd0e-147a10466f73",
        "colab": {
          "base_uri": "https://localhost:8080/",
          "height": 136
        }
      },
      "cell_type": "code",
      "source": [
        "str1 = \"paraparaparadise\"\n",
        "str2 = \"paragraph\"\n",
        "\n",
        "X = set(ngram(str1, 2))\n",
        "Y = set(ngram(str2, 2))\n",
        "\n",
        "print(\"X: \", X)\n",
        "print(\"Y: \", Y)\n",
        "\n",
        "union_XY = X.union(Y)\n",
        "print(\"union_XY: \", union_XY)\n",
        "\n",
        "intersection_XY = X.intersection(Y)\n",
        "print(\"intersection_XY: \", intersection_XY)\n",
        "\n",
        "difference_XY = X.difference(Y)\n",
        "print(\"difference_XY: \", difference_XY)\n",
        "\n",
        "print(\"'se' in X: \", 'se' in X)\n",
        "print(\"'se' in Y: \", 'se' in Y)"
      ],
      "execution_count": 0,
      "outputs": [
        {
          "output_type": "stream",
          "text": [
            "X:  {'ap', 'di', 'ar', 'pa', 'ra', 'ad', 'is', 'se'}\n",
            "Y:  {'ap', 'ag', 'ar', 'ph', 'pa', 'ra', 'gr'}\n",
            "union_XY:  {'ap', 'di', 'ag', 'ar', 'ph', 'pa', 'ra', 'ad', 'is', 'gr', 'se'}\n",
            "intersection_XY:  {'pa', 'ar', 'ra', 'ap'}\n",
            "difference_XY:  {'ad', 'is', 'se', 'di'}\n",
            "'se' in X:  True\n",
            "'se' in Y:  False\n"
          ],
          "name": "stdout"
        }
      ]
    },
    {
      "metadata": {
        "id": "NxbEf5r8bxZH",
        "colab_type": "text"
      },
      "cell_type": "markdown",
      "source": [
        "### 07. テンプレートによる文生成\n",
        "引数x, y, zを受け取り「x時のyはz」という文字列を返す関数を実装せよ．さらに，x=12, y=\"気温\", z=22.4として，実行結果を確認せよ．"
      ]
    },
    {
      "metadata": {
        "id": "t9Q1rV6FyGc0",
        "colab_type": "code",
        "colab": {}
      },
      "cell_type": "code",
      "source": [
        "def print_xyz(x, y, z):\n",
        "  print(f'{x}時の{y}は{z}')"
      ],
      "execution_count": 0,
      "outputs": []
    },
    {
      "metadata": {
        "id": "tkIP2S-Jy6Qm",
        "colab_type": "code",
        "outputId": "af9d0507-3d81-4063-edb3-97a8fb7b1919",
        "colab": {
          "base_uri": "https://localhost:8080/",
          "height": 34
        }
      },
      "cell_type": "code",
      "source": [
        "print_xyz(x=12, y=\"気温\", z=22.4)"
      ],
      "execution_count": 0,
      "outputs": [
        {
          "output_type": "stream",
          "text": [
            "12時の気温は22.4\n"
          ],
          "name": "stdout"
        }
      ]
    },
    {
      "metadata": {
        "id": "X6lBheE6gaXX",
        "colab_type": "text"
      },
      "cell_type": "markdown",
      "source": [
        "### 08. 暗号文\n",
        "与えられた文字列の各文字を，以下の仕様で変換する関数cipherを実装せよ．\n",
        "\n",
        "英小文字ならば(219 - 文字コード)の文字に置換\n",
        "その他の文字はそのまま出力\n",
        "この関数を用い，英語のメッセージを暗号化・復号化せよ．"
      ]
    },
    {
      "metadata": {
        "id": "MkLFPKFo0iVG",
        "colab_type": "code",
        "colab": {}
      },
      "cell_type": "code",
      "source": [
        "def cipher(str):\n",
        "  ciphered_str = \"\"\n",
        "  for x in str:\n",
        "    if x.islower():\n",
        "      ciphered_str += chr(219 - ord(x))\n",
        "    else:\n",
        "      ciphered_str += x\n",
        "  return ciphered_str"
      ],
      "execution_count": 0,
      "outputs": []
    },
    {
      "metadata": {
        "id": "jwZd8Kh9MVgt",
        "colab_type": "code",
        "outputId": "8170ef3c-eb40-49bc-9daf-d4d8615b8b7b",
        "colab": {
          "base_uri": "https://localhost:8080/",
          "height": 51
        }
      },
      "cell_type": "code",
      "source": [
        "print(cipher(\"I couldn't believe that I could actually understand what I was reading : the phenomenal power of the human mind .\"))\n",
        "print(cipher(\"I xlfowm'g yvorvev gszg I xlfow zxgfzoob fmwvihgzmw dszg I dzh ivzwrmt : gsv ksvmlnvmzo kldvi lu gsv sfnzm nrmw .\"))"
      ],
      "execution_count": 0,
      "outputs": [
        {
          "output_type": "stream",
          "text": [
            "I xlfowm'g yvorvev gszg I xlfow zxgfzoob fmwvihgzmw dszg I dzh ivzwrmt : gsv ksvmlnvmzo kldvi lu gsv sfnzm nrmw .\n",
            "I couldn't believe that I could actually understand what I was reading : the phenomenal power of the human mind .\n"
          ],
          "name": "stdout"
        }
      ]
    },
    {
      "metadata": {
        "id": "HpggFR6LgdEw",
        "colab_type": "text"
      },
      "cell_type": "markdown",
      "source": [
        "### 09. Typoglycemia\n",
        "スペースで区切られた単語列に対して，各単語の先頭と末尾の文字は残し，それ以外の文字の順序をランダムに並び替えるプログラムを作成せよ．ただし，長さが４以下の単語は並び替えないこととする．適当な英語の文（例えば\"I couldn't believe that I could actually understand what I was reading : the phenomenal power of the human mind .\"）を与え，その実行結果を確認せよ．"
      ]
    },
    {
      "metadata": {
        "id": "WJ8atf2Sge1P",
        "colab_type": "code",
        "colab": {}
      },
      "cell_type": "code",
      "source": [
        "import random\n",
        "\n",
        "def shuffle_character(word):\n",
        "  return word[0] + ''.join(random.sample(word[1:-1], len(word[1:-1]))) + word[-1] if len(word) > 4 else word"
      ],
      "execution_count": 0,
      "outputs": []
    },
    {
      "metadata": {
        "id": "_IIwJjzr2JsV",
        "colab_type": "code",
        "colab": {
          "base_uri": "https://localhost:8080/",
          "height": 34
        },
        "outputId": "7d8b560d-4684-458d-cc7f-f5281cc9c4e1"
      },
      "cell_type": "code",
      "source": [
        "sentence = \"I couldn't believe that I could actually understand what I was reading : the phenomenal power of the human mind .\"\n",
        "words = sentence.split(\" \")\n",
        "\n",
        "mixed_words = []\n",
        "for word in words:\n",
        "  mixed_words.append(shuffle_character(word))\n",
        "\n",
        "print(' '.join(mixed_words))  "
      ],
      "execution_count": 9,
      "outputs": [
        {
          "output_type": "stream",
          "text": [
            "I cdl'ount bleevie that I colud acautlly uastnrnedd what I was rdeniag : the phmeoenanl peowr of the hmuan mind .\n"
          ],
          "name": "stdout"
        }
      ]
    },
    {
      "metadata": {
        "id": "2ELXwRHV2YVx",
        "colab_type": "code",
        "colab": {}
      },
      "cell_type": "code",
      "source": [
        ""
      ],
      "execution_count": 0,
      "outputs": []
    }
  ]
}