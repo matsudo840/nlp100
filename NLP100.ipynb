{
  "nbformat": 4,
  "nbformat_minor": 0,
  "metadata": {
    "colab": {
      "name": "NLP100",
      "version": "0.3.2",
      "provenance": [],
      "toc_visible": true,
      "include_colab_link": true
    },
    "kernelspec": {
      "name": "python3",
      "display_name": "Python 3"
    }
  },
  "cells": [
    {
      "cell_type": "markdown",
      "metadata": {
        "id": "view-in-github",
        "colab_type": "text"
      },
      "source": [
        "<a href=\"https://colab.research.google.com/github/matsudo840/nlp100/blob/master/NLP100.ipynb\" target=\"_parent\"><img src=\"https://colab.research.google.com/assets/colab-badge.svg\" alt=\"Open In Colab\"/></a>"
      ]
    },
    {
      "metadata": {
        "id": "JQJU6hCI1Ilu",
        "colab_type": "text"
      },
      "cell_type": "markdown",
      "source": [
        "# 言語処理100本ノック 2015"
      ]
    },
    {
      "metadata": {
        "id": "wgr51S_G07YR",
        "colab_type": "text"
      },
      "cell_type": "markdown",
      "source": [
        "## 第1章: 準備運動"
      ]
    },
    {
      "metadata": {
        "id": "-fbnTpnq92WY",
        "colab_type": "text"
      },
      "cell_type": "markdown",
      "source": [
        "### 00. 文字列の逆順\n",
        "文字列\"stressed\"の文字を逆に（末尾から先頭に向かって）並べた文字列を得よ．"
      ]
    },
    {
      "metadata": {
        "id": "KnblVrYo-BVn",
        "colab_type": "code",
        "outputId": "150fc648-9b3f-4d6b-d29b-953511e38f48",
        "colab": {
          "base_uri": "https://localhost:8080/",
          "height": 34
        }
      },
      "cell_type": "code",
      "source": [
        "print(\"stressed\"[::-1])"
      ],
      "execution_count": 0,
      "outputs": [
        {
          "output_type": "stream",
          "text": [
            "desserts\n"
          ],
          "name": "stdout"
        }
      ]
    },
    {
      "metadata": {
        "id": "nFj1y6dI2UgX",
        "colab_type": "text"
      },
      "cell_type": "markdown",
      "source": [
        "### 01. 「パタトクカシーー」\n",
        "「パタトクカシーー」という文字列の1,3,5,7文字目を取り出して連結した文字列を得よ．"
      ]
    },
    {
      "metadata": {
        "id": "h_EoovoG2gc3",
        "colab_type": "code",
        "outputId": "978b55fd-1c51-4c64-9339-8e75428dbb17",
        "colab": {
          "base_uri": "https://localhost:8080/",
          "height": 34
        }
      },
      "cell_type": "code",
      "source": [
        "str01 = \"パタトクカシーー\"\n",
        "print(str01[::2])"
      ],
      "execution_count": 0,
      "outputs": [
        {
          "output_type": "stream",
          "text": [
            "パトカー\n"
          ],
          "name": "stdout"
        }
      ]
    },
    {
      "metadata": {
        "id": "v6etOKr7-P-m",
        "colab_type": "text"
      },
      "cell_type": "markdown",
      "source": [
        "### 02. 「パトカー」＋「タクシー」＝「パタトクカシーー」\n",
        "「パトカー」＋「タクシー」の文字を先頭から交互に連結して文字列「パタトクカシーー」を得よ．"
      ]
    },
    {
      "metadata": {
        "id": "jR3CbfXk2Edf",
        "colab_type": "code",
        "outputId": "563ec229-496e-4497-c3a5-6aad16e8b950",
        "colab": {
          "base_uri": "https://localhost:8080/",
          "height": 34
        }
      },
      "cell_type": "code",
      "source": [
        "str02_1 = \"パトカー\"\n",
        "str02_2 = \"タクシー\"\n",
        "\n",
        "for i, j in zip(str02_1, str02_2):\n",
        "  print(i + j, end = \"\")"
      ],
      "execution_count": 0,
      "outputs": [
        {
          "output_type": "stream",
          "text": [
            "パタトクカシーー"
          ],
          "name": "stdout"
        }
      ]
    },
    {
      "metadata": {
        "id": "FsIYf0Ht3Bt4",
        "colab_type": "text"
      },
      "cell_type": "markdown",
      "source": [
        "### 03. 円周率\n",
        "\"Now I need a drink, alcoholic of course, after the heavy lectures involving quantum mechanics.\"という文を単語に分解し，各単語の（アルファベットの）文字数を先頭から出現順に並べたリストを作成せよ．"
      ]
    },
    {
      "metadata": {
        "id": "kaS3GAtx3n4-",
        "colab_type": "code",
        "outputId": "aa864304-ce6a-466b-8761-174d5bc92b4d",
        "colab": {
          "base_uri": "https://localhost:8080/",
          "height": 34
        }
      },
      "cell_type": "code",
      "source": [
        "str03 = \"Now I need a drink, alcoholic of course, after the heavy lectures involving quantum mechanics.\"\n",
        "words = str03.split(\" \")\n",
        "\n",
        "list03 = []\n",
        "\n",
        "for i in words:\n",
        "  list03.append(len(i.rstrip(\".,\")))\n",
        "\n",
        "list03"
      ],
      "execution_count": 9,
      "outputs": [
        {
          "output_type": "execute_result",
          "data": {
            "text/plain": [
              "[3, 1, 4, 1, 5, 9, 2, 6, 5, 3, 5, 8, 9, 7, 9]"
            ]
          },
          "metadata": {
            "tags": []
          },
          "execution_count": 9
        }
      ]
    },
    {
      "metadata": {
        "id": "9tz7RYlrZFHu",
        "colab_type": "text"
      },
      "cell_type": "markdown",
      "source": [
        "### 04. 元素記号\n",
        "\"Hi He Lied Because Boron Could Not Oxidize Fluorine. New Nations Might Also Sign Peace Security Clause. Arthur King Can.\"という文を単語に分解し，1, 5, 6, 7, 8, 9, 15, 16, 19番目の単語は先頭の1文字，それ以外の単語は先頭に2文字を取り出し，取り出した文字列から単語の位置（先頭から何番目の単語か）への連想配列（辞書型もしくはマップ型）を作成せよ．"
      ]
    },
    {
      "metadata": {
        "id": "9W9SSxZQZZ-J",
        "colab_type": "code",
        "colab": {
          "base_uri": "https://localhost:8080/",
          "height": 357
        },
        "outputId": "f22ef727-77dc-4346-c200-c9fb342dece8"
      },
      "cell_type": "code",
      "source": [
        "str04 = \"Hi He Lied Because Boron Could Not Oxidize Fluorine. New Nations Might Also Sign Peace Security Clause. Arthur King Can.\"\n",
        "words04 = str04.split(\" \")\n",
        "\n",
        "words04"
      ],
      "execution_count": 10,
      "outputs": [
        {
          "output_type": "execute_result",
          "data": {
            "text/plain": [
              "['Hi',\n",
              " 'He',\n",
              " 'Lied',\n",
              " 'Because',\n",
              " 'Boron',\n",
              " 'Could',\n",
              " 'Not',\n",
              " 'Oxidize',\n",
              " 'Fluorine.',\n",
              " 'New',\n",
              " 'Nations',\n",
              " 'Might',\n",
              " 'Also',\n",
              " 'Sign',\n",
              " 'Peace',\n",
              " 'Security',\n",
              " 'Clause.',\n",
              " 'Arthur',\n",
              " 'King',\n",
              " 'Can.']"
            ]
          },
          "metadata": {
            "tags": []
          },
          "execution_count": 10
        }
      ]
    },
    {
      "metadata": {
        "id": "TYrpvdXvaYUC",
        "colab_type": "code",
        "colab": {
          "base_uri": "https://localhost:8080/",
          "height": 357
        },
        "outputId": "72cf2bfe-327a-4ddf-88fb-df5cf725d07d"
      },
      "cell_type": "code",
      "source": [
        "atoms = {}\n",
        "\n",
        "for n, atom in enumerate(words04, start=1):\n",
        "  if n in [1, 5, 6, 7, 8, 9, 15, 16, 19]:\n",
        "    atoms[atom[:1]] = n\n",
        "  else:\n",
        "    atoms[atom[:2]] = n\n",
        "\n",
        "atoms"
      ],
      "execution_count": 11,
      "outputs": [
        {
          "output_type": "execute_result",
          "data": {
            "text/plain": [
              "{'Al': 13,\n",
              " 'Ar': 18,\n",
              " 'B': 5,\n",
              " 'Be': 4,\n",
              " 'C': 6,\n",
              " 'Ca': 20,\n",
              " 'Cl': 17,\n",
              " 'F': 9,\n",
              " 'H': 1,\n",
              " 'He': 2,\n",
              " 'K': 19,\n",
              " 'Li': 3,\n",
              " 'Mi': 12,\n",
              " 'N': 7,\n",
              " 'Na': 11,\n",
              " 'Ne': 10,\n",
              " 'O': 8,\n",
              " 'P': 15,\n",
              " 'S': 16,\n",
              " 'Si': 14}"
            ]
          },
          "metadata": {
            "tags": []
          },
          "execution_count": 11
        }
      ]
    },
    {
      "metadata": {
        "id": "NxbEf5r8bxZH",
        "colab_type": "code",
        "colab": {}
      },
      "cell_type": "code",
      "source": [
        ""
      ],
      "execution_count": 0,
      "outputs": []
    }
  ]
}