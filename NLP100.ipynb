{
  "nbformat": 4,
  "nbformat_minor": 0,
  "metadata": {
    "colab": {
      "name": "NLP100",
      "version": "0.3.2",
      "provenance": [],
      "include_colab_link": true
    },
    "kernelspec": {
      "name": "python3",
      "display_name": "Python 3"
    }
  },
  "cells": [
    {
      "cell_type": "markdown",
      "metadata": {
        "id": "view-in-github",
        "colab_type": "text"
      },
      "source": [
        "<a href=\"https://colab.research.google.com/github/matsudo840/nlp100/blob/master/NLP100.ipynb\" target=\"_parent\"><img src=\"https://colab.research.google.com/assets/colab-badge.svg\" alt=\"Open In Colab\"/></a>"
      ]
    },
    {
      "metadata": {
        "id": "JQJU6hCI1Ilu",
        "colab_type": "text"
      },
      "cell_type": "markdown",
      "source": [
        "# 言語処理100本ノック 2015"
      ]
    },
    {
      "metadata": {
        "id": "wgr51S_G07YR",
        "colab_type": "text"
      },
      "cell_type": "markdown",
      "source": [
        "## 第1章: 準備運動"
      ]
    },
    {
      "metadata": {
        "id": "-fbnTpnq92WY",
        "colab_type": "text"
      },
      "cell_type": "markdown",
      "source": [
        "### 00. 文字列の逆順\n",
        "文字列\"stressed\"の文字を逆に（末尾から先頭に向かって）並べた文字列を得よ．"
      ]
    },
    {
      "metadata": {
        "id": "KnblVrYo-BVn",
        "colab_type": "code",
        "outputId": "150fc648-9b3f-4d6b-d29b-953511e38f48",
        "colab": {
          "base_uri": "https://localhost:8080/",
          "height": 34
        }
      },
      "cell_type": "code",
      "source": [
        "print(\"stressed\"[::-1])"
      ],
      "execution_count": 1,
      "outputs": [
        {
          "output_type": "stream",
          "text": [
            "desserts\n"
          ],
          "name": "stdout"
        }
      ]
    },
    {
      "metadata": {
        "id": "nFj1y6dI2UgX",
        "colab_type": "text"
      },
      "cell_type": "markdown",
      "source": [
        "### 01. 「パタトクカシーー」\n",
        "「パタトクカシーー」という文字列の1,3,5,7文字目を取り出して連結した文字列を得よ．"
      ]
    },
    {
      "metadata": {
        "id": "h_EoovoG2gc3",
        "colab_type": "code",
        "colab": {
          "base_uri": "https://localhost:8080/",
          "height": 34
        },
        "outputId": "978b55fd-1c51-4c64-9339-8e75428dbb17"
      },
      "cell_type": "code",
      "source": [
        "str01 = \"パタトクカシーー\"\n",
        "print(str01[::2])"
      ],
      "execution_count": 2,
      "outputs": [
        {
          "output_type": "stream",
          "text": [
            "パトカー\n"
          ],
          "name": "stdout"
        }
      ]
    },
    {
      "metadata": {
        "id": "v6etOKr7-P-m",
        "colab_type": "text"
      },
      "cell_type": "markdown",
      "source": [
        "### 02. 「パトカー」＋「タクシー」＝「パタトクカシーー」\n",
        "「パトカー」＋「タクシー」の文字を先頭から交互に連結して文字列「パタトクカシーー」を得よ．"
      ]
    },
    {
      "metadata": {
        "id": "jR3CbfXk2Edf",
        "colab_type": "code",
        "colab": {
          "base_uri": "https://localhost:8080/",
          "height": 34
        },
        "outputId": "563ec229-496e-4497-c3a5-6aad16e8b950"
      },
      "cell_type": "code",
      "source": [
        "str02_1 = \"パトカー\"\n",
        "str02_2 = \"タクシー\"\n",
        "\n",
        "for i, j in zip(str02_1, str02_2):\n",
        "  print(i + j, end = \"\")"
      ],
      "execution_count": 10,
      "outputs": [
        {
          "output_type": "stream",
          "text": [
            "パタトクカシーー"
          ],
          "name": "stdout"
        }
      ]
    },
    {
      "metadata": {
        "id": "FsIYf0Ht3Bt4",
        "colab_type": "code",
        "colab": {}
      },
      "cell_type": "code",
      "source": [
        ""
      ],
      "execution_count": 0,
      "outputs": []
    }
  ]
}